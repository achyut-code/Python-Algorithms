{
  "nbformat": 4,
  "nbformat_minor": 0,
  "metadata": {
    "colab": {
      "name": "DAA",
      "provenance": [],
      "collapsed_sections": [],
      "include_colab_link": true
    },
    "kernelspec": {
      "name": "python3",
      "display_name": "Python 3"
    },
    "accelerator": "GPU"
  },
  "cells": [
    {
      "cell_type": "markdown",
      "metadata": {
        "id": "view-in-github",
        "colab_type": "text"
      },
      "source": [
        "<a href=\"https://colab.research.google.com/github/arpit0891/Python-Algorithms/blob/master/DAA.ipynb\" target=\"_parent\"><img src=\"https://colab.research.google.com/assets/colab-badge.svg\" alt=\"Open In Colab\"/></a>"
      ]
    },
    {
      "cell_type": "code",
      "metadata": {
        "id": "yf7vYDzMYKzY",
        "colab_type": "code",
        "outputId": "a6d74d5b-e2e7-4890-aa0b-824fc0cfb59e",
        "colab": {
          "base_uri": "https://localhost:8080/",
          "height": 204
        }
      },
      "source": [
        "def partition(arr,low,high): \n",
        "    i = ( low-1 )\n",
        "    pivot = arr[high]\n",
        "    for j in range(low , high): \n",
        "        if arr[j] < pivot: \n",
        "            i = i+1\n",
        "            arr[i],arr[j] = arr[j],arr[i] \n",
        "    arr[i+1],arr[high] = arr[high],arr[i+1] \n",
        "    return ( i+1 ) \n",
        "def quickSort(arr,low,high): \n",
        "    if low < high: \n",
        "        pi = partition(arr,low,high) \n",
        "        quickSort(arr, low, pi-1) \n",
        "        quickSort(arr, pi+1, high) \n",
        "arr = [14, 37, 28, 69, 21, 15,34,1,2,15] \n",
        "n = len(arr) \n",
        "quickSort(arr,0,n-1) \n",
        "print (\"Sorted array is:\") \n",
        "for i in range(n): \n",
        "    print (\"%d\" %arr[i])"
      ],
      "execution_count": 0,
      "outputs": [
        {
          "output_type": "stream",
          "text": [
            "Sorted array is:\n",
            "1\n",
            "2\n",
            "14\n",
            "15\n",
            "15\n",
            "21\n",
            "28\n",
            "34\n",
            "37\n",
            "69\n"
          ],
          "name": "stdout"
        }
      ]
    },
    {
      "cell_type": "code",
      "metadata": {
        "id": "etlFkUU_vBPT",
        "colab_type": "code",
        "colab": {}
      },
      "source": [
        "def getMinMax(low, high, a): \n",
        "\ta_max = a[low] \n",
        "\ta_min = a[low] \n",
        "\tif low == high: \n",
        "\t\ta_max = a[low] \n",
        "\t\ta_min = a[low] \n",
        "\t\treturn (a_max, a_min) \n",
        "\telif high == low + 1: \n",
        "\t\tif a[low] > a[high]: \n",
        "\t\t\ta_max = a[low] \n",
        "\t\t\ta_min = a[high] \n",
        "\t\telse: \n",
        "\t\t\ta_max = a[high] \n",
        "\t\t\ta_min = a[low] \n",
        "\t\treturn (a_max, a_min) \n",
        "\telse: \n",
        "\t\tmid = int((low + high) / 2) \n",
        "\t\ta_max1, a_min1 = getMinMax(low, mid, a) \n",
        "\t\ta_max2, a_min2 = getMinMax(mid + 1, high, a) \n",
        "\treturn (max(a_max1, a_max2), min(a_min1, a_min2)) \n",
        "a = [2,3,2,2,3,4,5,5,37,56,6,45,5,3,54,3456,484] \n",
        "high = len(a) - 1\n",
        "low = 0\n",
        "a_max, a_min = getMinMax(low, high, a) \n",
        "print('Min element is: ', a_min) \n",
        "print('Max element is: ', a_max) "
      ],
      "execution_count": 0,
      "outputs": []
    },
    {
      "cell_type": "code",
      "metadata": {
        "id": "SktY0vM41rH6",
        "colab_type": "code",
        "colab": {}
      },
      "source": [
        "def Fibonacci(n): \n",
        "    if n<0: \n",
        "        print(\"Incorrect input\") \n",
        "    elif n==0: \n",
        "        return 0\n",
        "    elif n==1: \n",
        "        return 1\n",
        "    else: \n",
        "        return Fibonacci(n-1)+Fibonacci(n-2) \n",
        "n=6\n",
        "print(Fibonacci(n)) "
      ],
      "execution_count": 0,
      "outputs": []
    },
    {
      "cell_type": "markdown",
      "metadata": {
        "id": "KFjvJY-nsqW1",
        "colab_type": "text"
      },
      "source": [
        "**QUICK SORT**\n",
        "\n",
        "---\n",
        "\n",
        "\n",
        "\n"
      ]
    },
    {
      "cell_type": "code",
      "metadata": {
        "colab_type": "code",
        "id": "oJWL3Vc2slXk",
        "colab": {}
      },
      "source": [
        "import timeit\n",
        "def part(list1,l,h):\n",
        "  pi=list1[h]\n",
        "  i=l-1\n",
        "  for j in range(l,h):\n",
        "    if list1[j]<pi:\n",
        "      i=i+1\n",
        "      list1[i],list1[j]=list1[j],list1[i]\n",
        "    list1[i+1],list1[h]=list1[h],list1[i+1]\n",
        "    return i+1\n",
        "def sort(list1,l,h):\n",
        "  if l<h:\n",
        "    p=part(list1,l,h)\n",
        "    sort(list1,l,p-1)\n",
        "    sort(list1,p+1,h)\n",
        "list1=[10, 7, 8, 9, 1, 5]\n",
        "n=len(list1)\n",
        "print(\"QUICK SORT\")\n",
        "%time sort(list1,0,n-1)\n",
        "print(sorted(list1))"
      ],
      "execution_count": 0,
      "outputs": []
    },
    {
      "cell_type": "code",
      "metadata": {
        "id": "9Li7TK-TD5xp",
        "colab_type": "code",
        "colab": {}
      },
      "source": [
        "def part(array,l,h):\n",
        "  pivot=array[(l+h)//2]\n",
        "  i=l\n",
        "  j=h\n",
        "  while j>i:\n",
        "    while array[i]<pivot:\n",
        "     i=i+1\n",
        "    while array[j] >pivot:\n",
        "      j=j-1\n",
        "    if i < j:\n",
        "      array[i],array[j]=array[j],array[i]\n",
        "  return j\n",
        "def sort(list1,l,h):\n",
        "  if l<h:\n",
        "    p=part(array,l,h)\n",
        "    sort(array,l,p-1)\n",
        "    sort(array,p+1,h)\n",
        "array=[10, 7, 8, 9, 1, 5]\n",
        "n=len(array)\n",
        "print(\"QUICK SORT\")\n",
        "sort(array,0,n-1)\n",
        "print(array)\n",
        " \n"
      ],
      "execution_count": 0,
      "outputs": []
    },
    {
      "cell_type": "code",
      "metadata": {
        "id": "kAsdWbZkdfiV",
        "colab_type": "code",
        "colab": {}
      },
      "source": [
        "print(list1)"
      ],
      "execution_count": 0,
      "outputs": []
    },
    {
      "cell_type": "markdown",
      "metadata": {
        "id": "8ya6XCZPsZLK",
        "colab_type": "text"
      },
      "source": [
        " **BUBBLE SORT**\n",
        "\n",
        "\n",
        "---\n",
        "\n",
        "\n"
      ]
    },
    {
      "cell_type": "code",
      "metadata": {
        "id": "ky-3uxbVjwgw",
        "colab_type": "code",
        "colab": {}
      },
      "source": [
        "from datetime import datetime as dt\n",
        "import timeit\n",
        "def bubble_sort(list2):\n",
        "  n=len(list2)\n",
        "  for i in range(0,n):\n",
        "    for j in range(0,n-i-1):\n",
        "      if list2[j]>list2[j+1]:\n",
        "        list2[j],list2[j+1]=list2[j+1],list2[j]\n",
        "list2=[10, 7, 8, 9, 1, 5]\n",
        "a=dt.now()\n",
        "print(\"BUBBLE SORT\")\n",
        "%time bubble_sort(list2)\n",
        "b=dt.now()\n",
        "\n",
        "print(b-a)\n",
        "print(list2)"
      ],
      "execution_count": 0,
      "outputs": []
    },
    {
      "cell_type": "markdown",
      "metadata": {
        "id": "dI0FcUfVmNP3",
        "colab_type": "text"
      },
      "source": [
        "**MERGE SORT**\n",
        "\n",
        "---\n",
        "\n"
      ]
    },
    {
      "cell_type": "code",
      "metadata": {
        "id": "ykaFU-aXd2Bk",
        "colab_type": "code",
        "colab": {}
      },
      "source": [
        "import timeit\n",
        "def sorting(arr):\n",
        "  if len(arr)>1:\n",
        "    mid=len(arr)//2\n",
        "    left=arr[:mid]\n",
        "    right=arr[mid:]\n",
        "\n",
        "    sorting(left)\n",
        "    sorting(right)\n",
        "    i=0\n",
        "    j=0\n",
        "    k=0\n",
        "    while i<len(left) and j<len(right):\n",
        "      if left[i]<right[j]:\n",
        "        arr[k]=left[i]\n",
        "        i+=1\n",
        "      else:\n",
        "        arr[k]=right[j]\n",
        "        j+=1\n",
        "      k+=1\n",
        "    while i < len(left):\n",
        "      arr[k]=left[i]\n",
        "      i+=1\n",
        "      k+=1\n",
        "    while j < len(right):\n",
        "      arr[k]=right[j]\n",
        "      j+=1\n",
        "      k+=1\n",
        "A=[2,34,76,8,2,98]\n",
        "print(\"MERGE SORT\")\n",
        "print(A)\n",
        "%time sorting(A)\n",
        "print(A)"
      ],
      "execution_count": 0,
      "outputs": []
    },
    {
      "cell_type": "markdown",
      "metadata": {
        "id": "LbHIw8dPmfbe",
        "colab_type": "text"
      },
      "source": [
        "**HEAP SORT**\n",
        "\n",
        "---\n",
        "\n"
      ]
    },
    {
      "cell_type": "code",
      "metadata": {
        "id": "MU8uHUw57guu",
        "colab_type": "code",
        "colab": {}
      },
      "source": [
        "import timeit\n",
        "def heapify(arr, n, i): \n",
        "\tlargest = i \n",
        "\tl = 2*i+1\t\n",
        "\tr = 2 * i + 2\t \n",
        "\tif l < n and arr[i] < arr[l]: \n",
        "\t\tlargest = l \t\n",
        "\tif r < n and arr[largest] < arr[r]: \n",
        "\t\tlargest = r \n",
        "\tif largest != i: \n",
        "\t\tarr[i],arr[largest] = arr[largest],arr[i] \n",
        "\t\theapify(arr, n, largest) \n",
        "def heapSort(arr): \n",
        "\tn = len(arr) \n",
        "\tfor i in range(n, -1, -1): \n",
        "\t\theapify(arr, n, i) \n",
        "\tfor i in range(n-1, 0, -1): \n",
        "\t\tarr[i], arr[0] = arr[0], arr[i] \n",
        "\t\theapify(arr, i, 0) \n",
        "arr = [ 12, 11, 13, 5, 6, 7] \n",
        "print(\"HEAP SORT\")\n",
        "%time heapSort(arr) \n",
        "n = len(arr) \n",
        "print (\"Sorted array is\",arr) "
      ],
      "execution_count": 0,
      "outputs": []
    },
    {
      "cell_type": "code",
      "metadata": {
        "id": "X0EPF8mnzBzm",
        "colab_type": "code",
        "colab": {}
      },
      "source": [
        "\n",
        "def m(n):\n",
        "  a=n[0]\n",
        "  for i in range(len(n)):\n",
        "    if a<n[i]:\n",
        "      a=n[i]\n",
        "  return(a)\n",
        "n=[45,65,43,67,88]\n",
        "%time m(n)"
      ],
      "execution_count": 0,
      "outputs": []
    },
    {
      "cell_type": "code",
      "metadata": {
        "id": "hs0aBCWhvyHX",
        "colab_type": "code",
        "colab": {}
      },
      "source": [
        "import timeit\n",
        "%timeit max(n)"
      ],
      "execution_count": 0,
      "outputs": []
    },
    {
      "cell_type": "code",
      "metadata": {
        "id": "vruwMqo_ymlS",
        "colab_type": "code",
        "colab": {}
      },
      "source": [
        "pip install memory_profiler"
      ],
      "execution_count": 0,
      "outputs": []
    },
    {
      "cell_type": "code",
      "metadata": {
        "id": "4GyJVrDDwliI",
        "colab_type": "code",
        "colab": {}
      },
      "source": [
        "import memory_profiler\n",
        "%load_ext memory_profiler\n",
        "%memit max(n)"
      ],
      "execution_count": 0,
      "outputs": []
    },
    {
      "cell_type": "code",
      "metadata": {
        "id": "AYbbC_QjykgW",
        "colab_type": "code",
        "colab": {}
      },
      "source": [
        "from datetime import datetime as dt\n",
        "x=dt.now()\n",
        "n=[3,5,76,7,9]\n",
        "a=n[0]\n",
        "for i in range(len(n)):\n",
        "  if a<n[i]:\n",
        "    a=n[i]\n",
        "print(a)\n",
        "y=dt.now()\n",
        "print(y-x)"
      ],
      "execution_count": 0,
      "outputs": []
    },
    {
      "cell_type": "code",
      "metadata": {
        "id": "eC0qGktd0CbK",
        "colab_type": "code",
        "colab": {}
      },
      "source": [
        "import timeit\n",
        "import random\n",
        "a=[]\n",
        "def function(a,i,j):\n",
        "  max1=min1=a[i]\n",
        "  if i==j:\n",
        "    min1=max1=a[i]\n",
        "    return min1,max1\n",
        "  elif i==j-1:\n",
        "      if a[i]<a[j]:\n",
        "        max1=a[j]\n",
        "        min1=a[i]\n",
        "      else:\n",
        "        max1=a[i]\n",
        "        min1=a[j]\n",
        "      return min1,max1\n",
        "  else:\n",
        "    mid=(i+j)//2\n",
        "    min1,max1=function(a,i,mid)\n",
        "    min2,max2=function(a,mid+1,j)\n",
        "    return min(min1,min2), max(max1,max2)\n",
        "for i in range(1000):\n",
        "  a.append(random.randint(1,1000))\n",
        "print(\"MIN MAX USING RECURSION\")\n",
        "%time x,y=function(a,0,len(a)-1)\n",
        "\n",
        "print(x,y)\n"
      ],
      "execution_count": 0,
      "outputs": []
    },
    {
      "cell_type": "code",
      "metadata": {
        "id": "v2edX_kr9Vvm",
        "colab_type": "code",
        "colab": {}
      },
      "source": [
        "\n",
        "def m(a):\n",
        "  x=y=a[0]\n",
        "  for i in range(len(a)):\n",
        "    if x<a[i]:\n",
        "      x=a[i]\n",
        "    if y>a[i]:\n",
        "      y=a[i]\n",
        "\n",
        "  return y,x\n",
        "print(\"MIN MAX USING GENERAL METHOD\")\n",
        "%time m(a)"
      ],
      "execution_count": 0,
      "outputs": []
    },
    {
      "cell_type": "code",
      "metadata": {
        "id": "DO5RPiiOCOhG",
        "colab_type": "code",
        "colab": {}
      },
      "source": [
        "pip install matplotlib"
      ],
      "execution_count": 0,
      "outputs": []
    },
    {
      "cell_type": "code",
      "metadata": {
        "id": "dlaEPeNLvki-",
        "colab_type": "code",
        "colab": {}
      },
      "source": [
        "def fibbo(n):\n",
        "  if n==0 or n==1:\n",
        "    return n\n",
        "  else:\n",
        "    return(fibbo(n-1)+fibbo(n-2))\n",
        "n=int(input())\n",
        "for i in range(0,n):    \n",
        "  print(fibbo(i), end=\" \")"
      ],
      "execution_count": 0,
      "outputs": []
    },
    {
      "cell_type": "code",
      "metadata": {
        "id": "1OWS5YFn2NSc",
        "colab_type": "code",
        "colab": {}
      },
      "source": [
        "h=list(map(int,input().split()))\n",
        "word=input()\n",
        "a=[char for char in word]\n",
        "print(a)\n",
        "for i in range(0,26):\n",
        "  a=chr(97+i)\n",
        "dic={}"
      ],
      "execution_count": 0,
      "outputs": []
    },
    {
      "cell_type": "code",
      "metadata": {
        "id": "rwHSEyuG6HYy",
        "colab_type": "code",
        "colab": {}
      },
      "source": [
        "z=dict()\n",
        "h=list(map(int,input().split()))\n",
        "for i in range(0,26):\n",
        "  a=chr(97+i)\n",
        "  z[a]=h[i]"
      ],
      "execution_count": 0,
      "outputs": []
    },
    {
      "cell_type": "code",
      "metadata": {
        "id": "NG0uDWin8GLt",
        "colab_type": "code",
        "colab": {}
      },
      "source": [
        "print(z)"
      ],
      "execution_count": 0,
      "outputs": []
    },
    {
      "cell_type": "code",
      "metadata": {
        "id": "_zcP-dWf97uW",
        "colab_type": "code",
        "colab": {}
      },
      "source": [
        "m=max([x for x in z.values()])"
      ],
      "execution_count": 0,
      "outputs": []
    },
    {
      "cell_type": "code",
      "metadata": {
        "id": "mK7Qd4HJ-Rch",
        "colab_type": "code",
        "colab": {}
      },
      "source": [
        "print(m)"
      ],
      "execution_count": 0,
      "outputs": []
    },
    {
      "cell_type": "code",
      "metadata": {
        "id": "j31dQeGm-3U2",
        "colab_type": "code",
        "colab": {}
      },
      "source": [
        "z=dict()\n",
        "\n",
        "word=input()\n",
        "for i in range(0,26):\n",
        "    a=chr(97+i)\n",
        "    z[a]=h[i]\n",
        "m=max([x for x in z.values()])\n",
        "a=len(word)\n",
        "print(m*a)"
      ],
      "execution_count": 0,
      "outputs": []
    },
    {
      "cell_type": "code",
      "metadata": {
        "id": "G_bTAvu4_r2c",
        "colab_type": "code",
        "colab": {}
      },
      "source": [
        "z=dict()\n",
        "h=list(map(int,input().split()))\n",
        "word=input()\n",
        "for i in range(0,26):\n",
        "    a=chr(97+i)\n",
        "    z[a]=h[i]\n",
        "n=[char for char in word]\n",
        "k=[x for x in z.items()]\n",
        "m=0\n",
        "x=[]\n",
        "for i in n:\n",
        "  x.append(z[i])\n",
        "y=max(x)\n",
        "l=len(word)\n",
        "print(y*l)"
      ],
      "execution_count": 0,
      "outputs": []
    },
    {
      "cell_type": "markdown",
      "metadata": {
        "id": "eXkvQtZO8yCI",
        "colab_type": "text"
      },
      "source": [
        "Huffman"
      ]
    },
    {
      "cell_type": "code",
      "metadata": {
        "id": "dicldg2kw9P8",
        "colab_type": "code",
        "outputId": "9d4a2deb-f566-40fb-fe51-fdb6bc473513",
        "colab": {
          "base_uri": "https://localhost:8080/",
          "height": 136
        }
      },
      "source": [
        "import heapq\n",
        "from collections import defaultdict\n",
        "\n",
        "\n",
        "def encode(frequency):\n",
        "    heap = [[weight, [symbol, '']] for symbol, weight in frequency.items()]\n",
        "    heapq.heapify(heap)\n",
        "    while len(heap) > 1:\n",
        "        lo = heapq.heappop(heap)\n",
        "        hi = heapq.heappop(heap)\n",
        "        for pair in lo[1:]:\n",
        "            pair[1] = '0' + pair[1]\n",
        "        for pair in hi[1:]:\n",
        "            pair[1] = '1' + pair[1]\n",
        "        heapq.heappush(heap, [lo[0] + hi[0]] + lo[1:] + hi[1:])\n",
        "    return sorted(heapq.heappop(heap)[1:], key=lambda p: (len(p[-1]), p))\n",
        "\n",
        "\n",
        "data = \"aaaaabbbbbbbbbccccccccccddddddeeeeeeeeff\"\n",
        "frequency = defaultdict(int)\n",
        "for symbol in data:\n",
        "    frequency[symbol] += 1\n",
        "\n",
        "huff = encode(frequency)\n",
        "print (\"Symbol\".ljust(10) + \"Weight\".ljust(10) + \"Huffman Code\")\n",
        "for p in huff:\n",
        "    print (p[0].ljust(10) + str(frequency[p[0]]).ljust(10) + p[1])"
      ],
      "execution_count": 0,
      "outputs": [
        {
          "output_type": "stream",
          "text": [
            "Symbol    Weight    Huffman Code\n",
            "b         9         01\n",
            "c         10        10\n",
            "e         8         00\n",
            "d         6         110\n",
            "a         5         1111\n",
            "f         2         1110\n"
          ],
          "name": "stdout"
        }
      ]
    },
    {
      "cell_type": "markdown",
      "metadata": {
        "id": "pQUr3JgFsbpU",
        "colab_type": "text"
      },
      "source": [
        "Matrix Chain Multiplication"
      ]
    },
    {
      "cell_type": "code",
      "metadata": {
        "id": "tOrXuSWPsamv",
        "colab_type": "code",
        "outputId": "0301aa82-10e7-402b-f3b8-69146e1c1d34",
        "colab": {
          "base_uri": "https://localhost:8080/",
          "height": 34
        }
      },
      "source": [
        "import sys \n",
        "def mco(p, i, j): \n",
        "    if i == j: \n",
        "        return 0\n",
        "    _min = sys.maxsize \n",
        "    for k in range(i, j): \n",
        "        count = (MatrixChainOrder(p, i, k)  \n",
        "             + MatrixChainOrder(p, k+1, j) \n",
        "                   + p[i-1] * p[k] * p[j]) \n",
        "        if count < _min: \n",
        "            _min = count; \n",
        "    return _min; \n",
        "arr = [1, 2, 4, 6, 8]; \n",
        "n = len(arr); \n",
        "print(\"Minimum number of multiplications is: \", mco(arr, 1, n-1));"
      ],
      "execution_count": 0,
      "outputs": [
        {
          "output_type": "stream",
          "text": [
            "Minimum number of multiplications is:  80\n"
          ],
          "name": "stdout"
        }
      ]
    },
    {
      "cell_type": "markdown",
      "metadata": {
        "id": "jiqBrKxe95Wz",
        "colab_type": "text"
      },
      "source": [
        "Job Sheduling"
      ]
    },
    {
      "cell_type": "code",
      "metadata": {
        "id": "D8sK4wgGBUKn",
        "colab_type": "code",
        "outputId": "9ea1ca3c-accb-4e62-ebd7-e7918887ee07",
        "colab": {
          "base_uri": "https://localhost:8080/",
          "height": 52
        }
      },
      "source": [
        "def printJobScheduling(arr, t): \n",
        "    n = len(arr) \n",
        "    for i in range(n): \n",
        "        for j in range(n - 1 - i): \n",
        "            if arr[j][2] < arr[j + 1][2]: \n",
        "                arr[j], arr[j + 1] = arr[j + 1], arr[j] \n",
        "    result = [False] * t \n",
        "    job = ['-1'] * t \n",
        "    for i in range(len(arr)): \n",
        "        for j in range(min(t - 1, arr[i][1] - 1), -1, -1): \n",
        "            if result[j] is False: \n",
        "                result[j] = True\n",
        "                job[j] = arr[i][0] \n",
        "                break\n",
        "    print(job) \n",
        "arr = [['a', 3, 5],\n",
        "       ['b', 1, 10], \n",
        "       ['c', 2, 20], \n",
        "       ['d', 1, 40], \n",
        "       ['e', 3, 100]] \n",
        "  \n",
        "  \n",
        "print(\"Following is maximum profit sequence of jobs\") \n",
        "printJobScheduling(arr, 3)"
      ],
      "execution_count": 0,
      "outputs": [
        {
          "output_type": "stream",
          "text": [
            "Following is maximum profit sequence of jobs\n",
            "['d', 'c', 'e']\n"
          ],
          "name": "stdout"
        }
      ]
    },
    {
      "cell_type": "markdown",
      "metadata": {
        "id": "Uav8BWtuCTUd",
        "colab_type": "text"
      },
      "source": [
        "Kruskal's Algorithm"
      ]
    },
    {
      "cell_type": "code",
      "metadata": {
        "id": "fKiKIBGHC1YA",
        "colab_type": "code",
        "outputId": "ed823297-b49e-41ba-b2cf-e0258b0776e3",
        "colab": {
          "base_uri": "https://localhost:8080/",
          "height": 88
        }
      },
      "source": [
        "from collections import defaultdict \n",
        "class Graph: \n",
        "    def __init__(self,vertices): \n",
        "        self.V= vertices #No. of vertices \n",
        "        self.graph = []    \n",
        "    def addEdge(self,u,v,w): \n",
        "        self.graph.append([u,v,w]) \n",
        "    def find(self, parent, i): \n",
        "        if parent[i] == i: \n",
        "            return i \n",
        "        return self.find(parent, parent[i]) \n",
        "    def union(self, parent, rank, x, y): \n",
        "        xroot = self.find(parent, x) \n",
        "        yroot = self.find(parent, y) \n",
        "        if rank[xroot] < rank[yroot]: \n",
        "            parent[xroot] = yroot \n",
        "        elif rank[xroot] > rank[yroot]: \n",
        "            parent[yroot] = xroot \n",
        "        else : \n",
        "            parent[yroot] = xroot \n",
        "            rank[xroot] += 1\n",
        "    def KruskalMST(self): \n",
        "        result =[]\n",
        "        i = 0\n",
        "        e = 0 \n",
        "        self.graph =  sorted(self.graph,key=lambda item: item[2]) \n",
        "        parent = [] ; rank = [] \n",
        "        for node in range(self.V): \n",
        "            parent.append(node) \n",
        "            rank.append(0) \n",
        "        while e < self.V -1 : \n",
        "            u,v,w =  self.graph[i] \n",
        "            i = i + 1\n",
        "            x = self.find(parent, u) \n",
        "            y = self.find(parent ,v) \n",
        "            if x != y: \n",
        "                e = e + 1     \n",
        "                result.append([u,v,w]) \n",
        "                self.union(parent, rank, x, y)           \n",
        "        print (\"Following are the edges in the constructed MST\")\n",
        "        for u,v,weight  in result: \n",
        "            #print str(u) + \" -- \" + str(v) + \" == \" + str(weight) \n",
        "            #or\n",
        "            print (\"%d - %d =%d\" % (u,v,weight)) \n",
        "g = Graph(4) \n",
        "g.addEdge(0, 1, 10) \n",
        "g.addEdge(0, 2, 6) \n",
        "g.addEdge(0, 3, 5) \n",
        "g.addEdge(1, 3, 15) \n",
        "g.addEdge(2, 3, 4) \n",
        "g.KruskalMST() "
      ],
      "execution_count": 0,
      "outputs": [
        {
          "output_type": "stream",
          "text": [
            "Following are the edges in the constructed MST\n",
            "2 - 3 =4\n",
            "0 - 3 =5\n",
            "0 - 1 =10\n"
          ],
          "name": "stdout"
        }
      ]
    },
    {
      "cell_type": "markdown",
      "metadata": {
        "id": "haUJrOwFHF6X",
        "colab_type": "text"
      },
      "source": [
        "Dijkstra Shortest Path Algorithm:"
      ]
    },
    {
      "cell_type": "code",
      "metadata": {
        "id": "A8SbFYtNHHuq",
        "colab_type": "code",
        "outputId": "29d2a7a6-766c-4dda-9b7a-2c6a0675f746",
        "colab": {
          "base_uri": "https://localhost:8080/",
          "height": 196
        }
      },
      "source": [
        "import sys \n",
        "class Graph():\n",
        "    def __init__(self, ver): \n",
        "        self.V = ver\n",
        "        self.graph = [[0 for column in range(ver)]for row in range(ver)]\n",
        "    def printSolution(self, dist):\n",
        "        print(\"Vertex \\tDistance from Source\")\n",
        "        for node in range(self.V):\n",
        "            print(node, \"\\t\", dist[node])\n",
        "    def minDistance(self, dist, sptSet):\n",
        "        min = sys.maxsize\n",
        "        for v in range(self.V):\n",
        "            if dist[v] < min and sptSet[v] == False:\n",
        "                min = dist[v]\n",
        "                min_index = v\n",
        "        return min_index\n",
        "    def dijkstra(self, src):\n",
        "        dist = [sys.maxsize] * self.V\n",
        "        dist[src] = 0\n",
        "        sptSet = [False] * self.V\n",
        "        for cout in range(self.V):\n",
        "            u = self.minDistance(dist, sptSet)\n",
        "            sptSet[u] = True \n",
        "            for v in range(self.V):\n",
        "                if self.graph[u][v] > 0 and sptSet[v] == False and dist[v] > dist[u] + self.graph[u][v]:\n",
        "                    dist[v] = dist[u] + self.graph[u][v]\n",
        "        self.printSolution(dist) \n",
        " \n",
        "g = Graph(9) \n",
        "g.graph = [[0, 4, 0, 0, 0, 0, 0, 8, 0], \n",
        "        [4, 0, 8, 0, 0, 0, 0, 11, 0], \n",
        "        [0, 8, 0, 7, 0, 4, 0, 0, 2], \n",
        "        [0, 0, 7, 0, 9, 14, 0, 0, 0], \n",
        "        [0, 0, 0, 9, 0, 10, 0, 0, 0], \n",
        "        [0, 0, 4, 14, 10, 0, 2, 0, 0], \n",
        "        [0, 0, 0, 0, 0, 2, 0, 1, 6], \n",
        "        [8, 11, 0, 0, 0, 0, 1, 0, 7], \n",
        "        [0, 0, 2, 0, 0, 0, 6, 7, 0] \n",
        "        ]; \n",
        "g.dijkstra(0);"
      ],
      "execution_count": 0,
      "outputs": [
        {
          "output_type": "stream",
          "text": [
            "Vertex \tDistance from Source\n",
            "0 \t 0\n",
            "1 \t 4\n",
            "2 \t 12\n",
            "3 \t 19\n",
            "4 \t 21\n",
            "5 \t 11\n",
            "6 \t 9\n",
            "7 \t 8\n",
            "8 \t 14\n"
          ],
          "name": "stdout"
        }
      ]
    },
    {
      "cell_type": "markdown",
      "metadata": {
        "id": "JWXMTYG-ldRd",
        "colab_type": "text"
      },
      "source": [
        "Optimal merge patern"
      ]
    },
    {
      "cell_type": "code",
      "metadata": {
        "id": "QsNZIGERlbJB",
        "colab_type": "code",
        "colab": {}
      },
      "source": [
        "#implemented in c++"
      ],
      "execution_count": 0,
      "outputs": []
    },
    {
      "cell_type": "markdown",
      "metadata": {
        "id": "YFkNBKMJ4WF-",
        "colab_type": "text"
      },
      "source": [
        "String matching algorithm"
      ]
    },
    {
      "cell_type": "markdown",
      "metadata": {
        "id": "_sZcWOKr6nOS",
        "colab_type": "text"
      },
      "source": [
        "# **KMP  Algorithm for pattern searching**"
      ]
    },
    {
      "cell_type": "code",
      "metadata": {
        "id": "qnx6XdGS6ng3",
        "colab_type": "code",
        "outputId": "57356c44-3a05-4984-eeb5-1df377dbdd51",
        "colab": {
          "base_uri": "https://localhost:8080/",
          "height": 52
        }
      },
      "source": [
        "#lps is longest proper suffix\n",
        "def computeLPSArray(pattern, M, lps): \n",
        "    len = 0 \n",
        "    lps[0] \n",
        "    i = 1\n",
        "    while i < M: \n",
        "        if pattern[i]== pattern[len]: \n",
        "            len += 1\n",
        "            lps[i] = len\n",
        "            i += 1\n",
        "        else: \n",
        "            if len != 0: \n",
        "                len = lps[len-1] \n",
        "            else: \n",
        "                lps[i] = 0\n",
        "                i += 1\n",
        "def KMP(pattern, text): \n",
        "    M = len(pattern) \n",
        "    N = len(text) \n",
        "    lps = [0]*M \n",
        "    j = 0 \n",
        "    computeLPSArray(pattern, M, lps) \n",
        "    i = 0\n",
        "    while i < N: \n",
        "        if pattern[j] == text[i]: \n",
        "            i += 1\n",
        "            j += 1\n",
        "        if j == M: \n",
        "            print (\"Found pattern at  \" + str(i-j)) \n",
        "            j = lps[j-1] \n",
        "        elif i < N and pattern[j] != text[i]: \n",
        "            if j != 0: \n",
        "                j = lps[j-1] \n",
        "            else: \n",
        "                i += 1\n",
        "\n",
        "text = \"1549463649494645\"\n",
        "pattern = \"364\"\n",
        "KMP(pattern, text) "
      ],
      "execution_count": 0,
      "outputs": [
        {
          "output_type": "stream",
          "text": [
            "Found pattern at  3\n",
            "Found pattern at  7\n"
          ],
          "name": "stdout"
        }
      ]
    },
    {
      "cell_type": "markdown",
      "metadata": {
        "id": "ZQWiCmtD41Z7",
        "colab_type": "text"
      },
      "source": [
        "# **BFS**"
      ]
    },
    {
      "cell_type": "code",
      "metadata": {
        "id": "kv-s8Sf141zx",
        "colab_type": "code",
        "outputId": "4ead3117-df8a-40c7-dec4-7cde4711ac44",
        "colab": {
          "base_uri": "https://localhost:8080/",
          "height": 34
        }
      },
      "source": [
        "graph = {\n",
        "  'A' : ['B','C'],\n",
        "  'B' : ['D', 'E'],\n",
        "  'C' : ['F'],\n",
        "  'D' : [],\n",
        "  'E' : ['F'],\n",
        "  'F' : []\n",
        "}\n",
        "\n",
        "visited = [] # List to keep track of visited nodes.\n",
        "queue = []     #Initialize a queue\n",
        "\n",
        "def bfs(visited, graph, node):\n",
        "  visited.append(node)\n",
        "  queue.append(node)\n",
        "  while queue:\n",
        "    s = queue.pop(0) \n",
        "    print (s, end = \" \") \n",
        "    for neighbour in graph[s]:\n",
        "      if neighbour not in visited:\n",
        "        visited.append(neighbour)\n",
        "        queue.append(neighbour)\n",
        "bfs(visited, graph, 'A')"
      ],
      "execution_count": 0,
      "outputs": [
        {
          "output_type": "stream",
          "text": [
            "A B C D E F "
          ],
          "name": "stdout"
        }
      ]
    },
    {
      "cell_type": "markdown",
      "metadata": {
        "id": "C1kzYek_42Ka",
        "colab_type": "text"
      },
      "source": [
        "# **DFS**"
      ]
    },
    {
      "cell_type": "code",
      "metadata": {
        "id": "ZKZTqd_M42nA",
        "colab_type": "code",
        "outputId": "da546c38-1899-459b-dd8c-371f7f9507d9",
        "colab": {
          "base_uri": "https://localhost:8080/",
          "height": 34
        }
      },
      "source": [
        "graph1 = {\n",
        "    '1' : ['2','9'],\n",
        "    '2' : ['1'],\n",
        "    '3' : ['4','5','6','9'],\n",
        "    '4' : ['3'],\n",
        "    '5' : ['3','8'],\n",
        "    '6' : ['3','7'],\n",
        "    '7' : ['6','9'],\n",
        "    '8' : ['5','7'],\n",
        "    '9' : ['1','3','7']\n",
        "}\n",
        "\n",
        "def dfs(graph, node, visited):\n",
        "    if node not in visited:\n",
        "        visited.append(node)\n",
        "        for n in graph[node]:\n",
        "            dfs(graph,n, visited)\n",
        "    return visited\n",
        "\n",
        "visited = dfs(graph1,'1', [])\n",
        "print(visited)"
      ],
      "execution_count": 0,
      "outputs": [
        {
          "output_type": "stream",
          "text": [
            "['A', 'B', 'S', 'C', 'D', 'E', 'H', 'G', 'F']\n"
          ],
          "name": "stdout"
        }
      ]
    },
    {
      "cell_type": "code",
      "metadata": {
        "id": "kdol0wCj57UH",
        "colab_type": "code",
        "colab": {}
      },
      "source": [
        ""
      ],
      "execution_count": 0,
      "outputs": []
    },
    {
      "cell_type": "markdown",
      "metadata": {
        "id": "NTnTtmETP8k-",
        "colab_type": "text"
      },
      "source": [
        "Strongly Connected Components"
      ]
    },
    {
      "cell_type": "code",
      "metadata": {
        "id": "6T6gtA8cPqUB",
        "colab_type": "code",
        "outputId": "9a67d4a1-a18a-412e-c131-3a9ce8f14792",
        "colab": {
          "base_uri": "https://localhost:8080/",
          "height": 85
        }
      },
      "source": [
        "# Kosaraju's algorithm to find strongly connected components in Python\n",
        "\n",
        "\n",
        "from collections import defaultdict\n",
        "\n",
        "class Graph:\n",
        "\n",
        "    def __init__(self, vertex):\n",
        "        self.V = vertex\n",
        "        self.graph = defaultdict(list)\n",
        "\n",
        "    # Add edge into the graph\n",
        "    def add_edge(self, s, d):\n",
        "        self.graph[s].append(d)\n",
        "\n",
        "    # dfs\n",
        "    def dfs(self, d, visited_vertex):\n",
        "        visited_vertex[d] = True\n",
        "        print(d, end='')\n",
        "        for i in self.graph[d]:\n",
        "            if not visited_vertex[i]:\n",
        "                self.dfs(i, visited_vertex)\n",
        "\n",
        "    def fill_order(self, d, visited_vertex, stack):\n",
        "        visited_vertex[d] = True\n",
        "        for i in self.graph[d]:\n",
        "            if not visited_vertex[i]:\n",
        "                self.fill_order(i, visited_vertex, stack)\n",
        "        stack = stack.append(d)\n",
        "\n",
        "    # transpose the matrix\n",
        "    def transpose(self):\n",
        "        g = Graph(self.V)\n",
        "\n",
        "        for i in self.graph:\n",
        "            for j in self.graph[i]:\n",
        "                g.add_edge(j, i)\n",
        "        return g\n",
        "\n",
        "    # Print stongly connected components\n",
        "    def print_scc(self):\n",
        "        stack = []\n",
        "        visited_vertex = [False] * (self.V)\n",
        "\n",
        "        for i in range(self.V):\n",
        "            if not visited_vertex[i]:\n",
        "                self.fill_order(i, visited_vertex, stack)\n",
        "\n",
        "        gr = self.transpose()\n",
        "\n",
        "        visited_vertex = [False] * (self.V)\n",
        "\n",
        "        while stack:\n",
        "            i = stack.pop()\n",
        "            if not visited_vertex[i]:\n",
        "                gr.dfs(i, visited_vertex)\n",
        "                print(\"\")\n",
        "\n",
        "\n",
        "g = Graph(8)\n",
        "g.add_edge(0, 1)\n",
        "g.add_edge(1, 2)\n",
        "g.add_edge(2, 3)\n",
        "g.add_edge(2, 4)\n",
        "g.add_edge(3, 0)\n",
        "g.add_edge(4, 5)\n",
        "g.add_edge(5, 6)\n",
        "g.add_edge(6, 4)\n",
        "g.add_edge(6, 7)\n",
        "\n",
        "print(\"Strongly Connected Components:\")\n",
        "g.print_scc()\n",
        "\n"
      ],
      "execution_count": 0,
      "outputs": [
        {
          "output_type": "stream",
          "text": [
            "Strongly Connected Components:\n",
            "0321\n",
            "465\n",
            "7\n"
          ],
          "name": "stdout"
        }
      ]
    },
    {
      "cell_type": "code",
      "metadata": {
        "id": "1PjQDbSPY7FX",
        "colab_type": "code",
        "outputId": "3501fd32-acb1-440b-f571-71d6aab8e504",
        "colab": {
          "base_uri": "https://localhost:8080/",
          "height": 34
        }
      },
      "source": [
        "def knapSack(W, wt, val, n): \n",
        "  \n",
        "    # Base Case \n",
        "    if n == 0 or W == 0 : \n",
        "        return 0\n",
        "  \n",
        "    # If weight of the nth item is  \n",
        "    # more than Knapsack of capacity W,  \n",
        "    # then this item cannot be included  \n",
        "    # in the optimal solution \n",
        "    if (wt[n-1] > W): \n",
        "        return knapSack(W, wt, val, n-1) \n",
        "  \n",
        "    # return the maximum of two cases: \n",
        "    # (1) nth item included \n",
        "    # (2) not included \n",
        "    else: \n",
        "        return max( \n",
        "            val[n-1] + knapSack( \n",
        "                W-wt[n-1], wt, val, n-1),  \n",
        "                knapSack(W, wt, val, n-1)) \n",
        "  \n",
        "# end of function knapSack \n",
        "  \n",
        "# To test above function \n",
        "val = [60, 100, 120] \n",
        "wt = [10, 20, 30] \n",
        "W = 50\n",
        "n = len(val) \n",
        "print (knapSack(W, wt, val, n) )"
      ],
      "execution_count": 0,
      "outputs": [
        {
          "output_type": "stream",
          "text": [
            "220\n"
          ],
          "name": "stdout"
        }
      ]
    }
  ]
}