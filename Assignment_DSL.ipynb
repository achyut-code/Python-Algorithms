{
  "nbformat": 4,
  "nbformat_minor": 0,
  "metadata": {
    "colab": {
      "name": "Assignment_DSL.ipynb",
      "provenance": [],
      "collapsed_sections": [],
      "include_colab_link": true
    },
    "kernelspec": {
      "name": "python3",
      "display_name": "Python 3"
    },
    "accelerator": "GPU"
  },
  "cells": [
    {
      "cell_type": "markdown",
      "metadata": {
        "id": "view-in-github",
        "colab_type": "text"
      },
      "source": [
        "<a href=\"https://colab.research.google.com/github/arpit0891/Python-Algorithms/blob/master/Assignment_DSL.ipynb\" target=\"_parent\"><img src=\"https://colab.research.google.com/assets/colab-badge.svg\" alt=\"Open In Colab\"/></a>"
      ]
    },
    {
      "cell_type": "code",
      "metadata": {
        "id": "TFU3lqqbNNdw",
        "colab_type": "code",
        "outputId": "a229f14a-8444-4998-a624-d47031da3030",
        "colab": {
          "base_uri": "https://localhost:8080/",
          "height": 86
        }
      },
      "source": [
        "! pip install SimPy"
      ],
      "execution_count": 0,
      "outputs": [
        {
          "output_type": "stream",
          "text": [
            "Collecting SimPy\n",
            "  Downloading https://files.pythonhosted.org/packages/20/f9/874b0bab83406827db93292a5bbe5acb5c18e3cea665b2f6e053292cb687/simpy-4.0.1-py2.py3-none-any.whl\n",
            "Installing collected packages: SimPy\n",
            "Successfully installed SimPy-4.0.1\n"
          ],
          "name": "stdout"
        }
      ]
    },
    {
      "cell_type": "code",
      "metadata": {
        "id": "Q47QvrJ_ENu0",
        "colab_type": "code",
        "outputId": "a879721b-3d5c-4419-cf10-1342adb6769b",
        "colab": {
          "base_uri": "https://localhost:8080/",
          "height": 54
        }
      },
      "source": [
        "'''\n",
        "1.\tWAP to simulate car wash center with capacity of two cars in two slots.\n",
        "2.\tWAP to illustrate traffic signal simulation.\n",
        "3.\tWAP to illustrate Priority Resource scheduling.\n",
        "4.\tWAP to provide interrupts in case of traffic light simulation.\n",
        "5.\tWAP to simulate car charging station with two queue each having capacity of 4 slots.\n",
        "6.\tWAP for Process Interaction in any simulation scenario.\n",
        "7.\tWAP to Interrupting another process in case of car charging simulation.\n",
        "8.\tWhat is the different between dependent and independent processes?'''\n"
      ],
      "execution_count": 0,
      "outputs": [
        {
          "output_type": "execute_result",
          "data": {
            "text/plain": [
              "'\\n1.\\tWAP to simulate car wash center with capacity of two cars in two slots.\\n2.\\tWAP to illustrate traffic signal simulation.\\n3.\\tWAP to illustrate Priority Resource scheduling.\\n4.\\tWAP to provide interrupts in case of traffic light simulation.\\n5.\\tWAP to simulate car charging station with two queue each having capacity of 4 slots.\\n6.\\tWAP for Process Interaction in any simulation scenario.\\n7.\\tWAP to Interrupting another process in case of car charging simulation.\\n8.\\tWhat is the different between dependent and independent processes?'"
            ]
          },
          "metadata": {
            "tags": []
          },
          "execution_count": 2
        }
      ]
    },
    {
      "cell_type": "markdown",
      "metadata": {
        "id": "OP9eWF5xKlSe",
        "colab_type": "text"
      },
      "source": [
        "# 1.\tWAP to simulate car wash center with capacity of two cars in two slots."
      ]
    },
    {
      "cell_type": "code",
      "metadata": {
        "id": "ckw8wSyUKmr_",
        "colab_type": "code",
        "outputId": "cfca2e81-21f5-4044-9f1a-9aea8fae1fa4",
        "colab": {
          "base_uri": "https://localhost:8080/",
          "height": 294
        }
      },
      "source": [
        "import random\n",
        "import simpy\n",
        "RANDOM_SEED = 20\n",
        "NEW_Cars = 5  # Total number of cars\n",
        "INTERVAL_Cars = 3.0  # Generate new cars roughly every x seconds\n",
        "MIN_PATIENCE = 1  # Min. customer patience\n",
        "MAX_PATIENCE = 20  # Max. customer patience\n",
        "def source(env, number, interval, counter):\n",
        "    for i in range(number):\n",
        "        c = car(env, 'Car %02d' % i, counter, time_in_survey=12.0)\n",
        "        env.process(c)\n",
        "        t = random.expovariate(1.0 / interval)\n",
        "        yield env.timeout(t)\n",
        "def car(env, name, counter, time_in_survey):\n",
        "    arrive = env.now\n",
        "    print('%.2f min %s: Car is ready to take wash' % (arrive, name))\n",
        "    with counter.request() as req:\n",
        "        patience = random.uniform(MIN_PATIENCE, MAX_PATIENCE)\n",
        "        results = yield req | env.timeout(patience)\n",
        "        wait = env.now - arrive\n",
        "        if req in results:\n",
        "            print('%.2f min %s: Waited %.2f' % (env.now, name, wait))\n",
        "            tib = random.expovariate(1.0 / time_in_survey)\n",
        "            yield env.timeout(tib)\n",
        "            print('%.2f min %s: Finished after waiting %.2f min' % (env.now, name,wait))\n",
        "        else:\n",
        "            print('%.2f min %s: Finished after waiting %.2f min' % (env.now, name, wait))\n",
        "print('CAR WASH')\n",
        "random.seed(RANDOM_SEED)\n",
        "env = simpy.Environment()\n",
        "counter = simpy.Resource(env, capacity=2)\n",
        "env.process(source(env, NEW_Cars, INTERVAL_Cars, counter))\n",
        "env.run()"
      ],
      "execution_count": 0,
      "outputs": [
        {
          "output_type": "stream",
          "text": [
            "CAR WASH\n",
            "0.00 min Car 00: Car is ready to take wash\n",
            "0.00 min Car 00: Waited 0.00\n",
            "7.08 min Car 01: Car is ready to take wash\n",
            "7.08 min Car 01: Waited 0.00\n",
            "14.13 min Car 02: Car is ready to take wash\n",
            "17.46 min Car 00: Finished after waiting 0.00 min\n",
            "17.46 min Car 02: Waited 3.32\n",
            "19.20 min Car 01: Finished after waiting 0.00 min\n",
            "21.19 min Car 03: Car is ready to take wash\n",
            "21.19 min Car 03: Waited 0.00\n",
            "21.75 min Car 04: Car is ready to take wash\n",
            "27.67 min Car 02: Finished after waiting 3.32 min\n",
            "27.67 min Car 04: Waited 5.92\n",
            "63.62 min Car 04: Finished after waiting 5.92 min\n",
            "82.26 min Car 03: Finished after waiting 0.00 min\n"
          ],
          "name": "stdout"
        }
      ]
    },
    {
      "cell_type": "markdown",
      "metadata": {
        "id": "GwfGh0yAKlvV",
        "colab_type": "text"
      },
      "source": [
        "# 2.WAP to illustrate traffic signal simulation."
      ]
    },
    {
      "cell_type": "code",
      "metadata": {
        "id": "8bnXt7FeKs8o",
        "colab_type": "code",
        "outputId": "b5fa530d-80b9-4412-8eb4-d267bd3e4767",
        "colab": {
          "base_uri": "https://localhost:8080/",
          "height": 641
        }
      },
      "source": [
        "from collections import deque\n",
        "from numpy import random\n",
        "import simpy\n",
        "from simpy.util import start_delayed\n",
        "\n",
        "\n",
        "class Struct(object):\n",
        "   def __init__(self, **kwargs):\n",
        "      self.__dict__.update(kwargs)\n",
        "random.seed([1, 2, 3])\n",
        "#specify the initial data\n",
        "end_time= 500.0\n",
        "arrival_rate= 0.05\n",
        "t_interarrival_mean= 2.0 / arrival_rate\n",
        "t_green= 30.0\n",
        "t_red= 90.0\n",
        "t_depart_left= 1.6; t_depart_mode= 2.0; t_depart_right= 2.4\n",
        "queue= deque()\n",
        "arrival_count= departure_count= 0\n",
        "Q_stats= Struct(count=0, cars_waiting=0)\n",
        "W_stats= Struct(count=0, waiting_time=0.0)\n",
        "def arrival():\n",
        "   global arrival_count, env, light, queue\n",
        "   while True:\n",
        "      arrival_count+= 1\n",
        "      if light == 'red' or len(queue):\n",
        "         queue.append((arrival_count, env.now))\n",
        "         min=env.now/60\n",
        "         print(\"Car #%d arrived and joined the queue at position %d at time \"\"%.1f\"\"sec or \"\"%.1f\"\"mins\"%(arrival_count, len(queue), env.now,min))\n",
        "      else:\n",
        "         min=env.now/60\n",
        "         print(\"Car #%d arrived to a green light with no cars waiting at time \"\"%.1f\"\"sec or \"\"%.1f\"\"mins\"%(arrival_count, env.now,min))\n",
        "         W_stats.count+= 1\n",
        "         #next arival\n",
        "      yield env.timeout( random.exponential(t_interarrival_mean))\n",
        "def departure():\n",
        "     global env, queue\n",
        "     while True:\n",
        "      car_number, t_arrival= queue.popleft()\n",
        "      min=env.now/60\n",
        "      print(\"Car #%d departed at time %.1f\"\"sec or\"\" %.1f\"\"mins\"\", leaving %d cars in the queue.\"%(car_number, env.now,min, len(queue)))\n",
        "      W_stats.count+= 1\n",
        "      W_stats.waiting_time+= env.now - t_arrival\n",
        "      if light == 'red' or len(queue) == 0:\n",
        "         return\n",
        "      delay= random.triangular(left=t_depart_left, mode=t_depart_mode,right=t_depart_right)\n",
        "      yield env.timeout(delay)\n",
        "def light():\n",
        "   global env, light\n",
        "   while True:\n",
        "      light= 'green'\n",
        "      min=env.now/60\n",
        "      print(\"\\nThe light turned green at time %.1f.\"\"sec or \"\"%.1f\"\"mins\"%(env.now,min))\n",
        "      if len(queue):\n",
        "         delay= random.triangular(left=t_depart_left, mode=t_depart_mode,right=t_depart_right)\n",
        "         start_delayed(env, departure(), delay=delay)\n",
        "      yield env.timeout(t_green)\n",
        "      light= 'red'\n",
        "      min=env.now/60\n",
        "      print(\"\\nThe light turned red at time %.1f.\"\"sec or \"\"%.1f\"\"mins\"% (env.now,min))\n",
        "      yield env.timeout(t_red)\n",
        "env= simpy.Environment()\n",
        "env.process(light())\n",
        "t_first_arrival= random.exponential(t_interarrival_mean)\n",
        "start_delayed(env, arrival(), delay=t_first_arrival)\n",
        "env.run(until=end_time)"
      ],
      "execution_count": 0,
      "outputs": [
        {
          "output_type": "stream",
          "text": [
            "\n",
            "The light turned green at time 0.0.sec or 0.0mins\n",
            "\n",
            "The light turned red at time 30.0.sec or 0.5mins\n",
            "Car #1 arrived and joined the queue at position 1 at time 37.7sec or 0.6mins\n",
            "\n",
            "The light turned green at time 120.0.sec or 2.0mins\n",
            "Car #1 departed at time 122.0sec or 2.0mins, leaving 0 cars in the queue.\n",
            "Car #2 arrived to a green light with no cars waiting at time 124.8sec or 2.1mins\n",
            "\n",
            "The light turned red at time 150.0.sec or 2.5mins\n",
            "Car #3 arrived and joined the queue at position 1 at time 215.9sec or 3.6mins\n",
            "Car #4 arrived and joined the queue at position 2 at time 217.1sec or 3.6mins\n",
            "\n",
            "The light turned green at time 240.0.sec or 4.0mins\n",
            "Car #3 departed at time 242.0sec or 4.0mins, leaving 1 cars in the queue.\n",
            "Car #4 departed at time 244.3sec or 4.1mins, leaving 0 cars in the queue.\n",
            "\n",
            "The light turned red at time 270.0.sec or 4.5mins\n",
            "Car #5 arrived and joined the queue at position 1 at time 314.9sec or 5.2mins\n",
            "Car #6 arrived and joined the queue at position 2 at time 350.1sec or 5.8mins\n",
            "\n",
            "The light turned green at time 360.0.sec or 6.0mins\n",
            "Car #5 departed at time 362.0sec or 6.0mins, leaving 1 cars in the queue.\n",
            "Car #6 departed at time 364.3sec or 6.1mins, leaving 0 cars in the queue.\n",
            "\n",
            "The light turned red at time 390.0.sec or 6.5mins\n",
            "Car #7 arrived and joined the queue at position 1 at time 446.4sec or 7.4mins\n",
            "Car #8 arrived and joined the queue at position 2 at time 459.2sec or 7.7mins\n",
            "Car #9 arrived and joined the queue at position 3 at time 459.2sec or 7.7mins\n",
            "\n",
            "The light turned green at time 480.0.sec or 8.0mins\n",
            "Car #7 departed at time 481.9sec or 8.0mins, leaving 2 cars in the queue.\n",
            "Car #8 departed at time 484.1sec or 8.1mins, leaving 1 cars in the queue.\n",
            "Car #9 departed at time 485.8sec or 8.1mins, leaving 0 cars in the queue.\n",
            "Car #10 arrived to a green light with no cars waiting at time 491.1sec or 8.2mins\n"
          ],
          "name": "stdout"
        }
      ]
    },
    {
      "cell_type": "markdown",
      "metadata": {
        "id": "_M_q0SJyc1QZ",
        "colab_type": "text"
      },
      "source": [
        "3.\tWAP to illustrate Priority Resource scheduling."
      ]
    },
    {
      "cell_type": "code",
      "metadata": {
        "id": "H5B8EME_hMNv",
        "colab_type": "code",
        "outputId": "6e667561-e28a-4571-fbd4-a41cd1d38292",
        "colab": {
          "base_uri": "https://localhost:8080/",
          "height": 121
        }
      },
      "source": [
        "import simpy\n",
        "def resource_user(name, env, resource, wait, prio):\n",
        "     yield env.timeout(wait)\n",
        "     with resource.request(priority=prio) as req:\n",
        "         print(f'{name} requesting at {env.now} with priority={prio}')\n",
        "         yield req\n",
        "         print(f'{name} got resource at {env.now}')\n",
        "         yield env.timeout(3)\n",
        "\n",
        "env = simpy.Environment()\n",
        "res = simpy.PriorityResource(env, capacity=1)\n",
        "p1 = env.process(resource_user(1, env, res, wait=0, prio=0))\n",
        "p2 = env.process(resource_user(2, env, res, wait=1, prio=0))\n",
        "p3 = env.process(resource_user(3, env, res, wait=2, prio=-1))\n",
        "env.run()"
      ],
      "execution_count": 0,
      "outputs": [
        {
          "output_type": "stream",
          "text": [
            "1 requesting at 0 with priority=0\n",
            "1 got resource at 0\n",
            "2 requesting at 1 with priority=0\n",
            "3 requesting at 2 with priority=-1\n",
            "3 got resource at 3\n",
            "2 got resource at 6\n"
          ],
          "name": "stdout"
        }
      ]
    },
    {
      "cell_type": "markdown",
      "metadata": {
        "id": "5mr2xUNdhMqD",
        "colab_type": "text"
      },
      "source": [
        "4.\tWAP to provide interrupts in case of traffic light simulation."
      ]
    },
    {
      "cell_type": "code",
      "metadata": {
        "id": "5_UufgW2hhKS",
        "colab_type": "code",
        "outputId": "4add83a3-fbe5-4e14-b86b-ca03c6429ed5",
        "colab": {
          "base_uri": "https://localhost:8080/",
          "height": 208
        }
      },
      "source": [
        "class TrafficLight(object):\n",
        "  def __init__(self,env):\n",
        "    self.env=env\n",
        "    self.action=env.process(self.run(env))\n",
        "  def run(self,env):\n",
        "    while True:\n",
        "      print(\"Red light in \",  env.now)\n",
        "      red_light_duration=90\n",
        "      try:\n",
        "        yield self.env.timeout(red_light_duration)\n",
        "      except(simpy.Interrupt):\n",
        "        print(\"Emergency vehicle arriving\")\n",
        "      print(\"Yellow light in \",  env.now)\n",
        "      yellow_light_duration=10\n",
        "      try:\n",
        "        yield self.env.timeout(yellow_light_duration)\n",
        "      except(simpy.Interrupt):\n",
        "        print(\"Emergency vehicle arriving\")\n",
        "      print(\"Green light in \",  env.now)\n",
        "      green_light_duration=20\n",
        "      try:\n",
        "        yield self.env.timeout(green_light_duration)\n",
        "      except(simpy.Interrupt):\n",
        "         print(\"Emergency vehicle arriving\")\n",
        "def emergency(env,tl,t):\n",
        "  yield env.timeout(t)\n",
        "  tl.action.interrupt()\n",
        "env=simpy.Environment()\n",
        "tl=TrafficLight(env)\n",
        "env.process(emergency(env,tl,180))\n",
        "env.run(400)"
      ],
      "execution_count": 0,
      "outputs": [
        {
          "output_type": "stream",
          "text": [
            "Red light in  0\n",
            "Yellow light in  90\n",
            "Green light in  100\n",
            "Red light in  120\n",
            "Emergency vehicle arriving\n",
            "Yellow light in  180\n",
            "Green light in  190\n",
            "Red light in  210\n",
            "Yellow light in  300\n",
            "Green light in  310\n",
            "Red light in  330\n"
          ],
          "name": "stdout"
        }
      ]
    },
    {
      "cell_type": "markdown",
      "metadata": {
        "id": "aKGvP7LRlLjw",
        "colab_type": "text"
      },
      "source": [
        "# 5.\tWAP to simulate car charging station with two queue each having capacity of 4 slots."
      ]
    },
    {
      "cell_type": "code",
      "metadata": {
        "id": "MjAnajboBrL9",
        "colab_type": "code",
        "outputId": "d153b342-d68d-4820-dc21-3a007d4982bd",
        "colab": {
          "base_uri": "https://localhost:8080/",
          "height": 554
        }
      },
      "source": [
        "import random\n",
        "import simpy\n",
        "RANDOM_SEED = 20\n",
        "NEW_Cars = 10  # Total number of cars\n",
        "INTERVAL_Cars = 3.0  # Generate new cars roughly every x seconds\n",
        "MIN_PATIENCE = 1  # Min. customer patience\n",
        "MAX_PATIENCE = 20  # Max. customer patience\n",
        "def source(env, number, interval, counter):\n",
        "    for i in range(number):\n",
        "        c = car(env, 'Car %02d' % i, counter, time_in_survey=12.0)\n",
        "        env.process(c)\n",
        "        t = random.expovariate(1.0 / interval)\n",
        "        yield env.timeout(t)\n",
        "def car(env, name, counter, time_in_survey):\n",
        "    arrive = env.now\n",
        "    print('%.1f min %s: Car is ready to charge' % (arrive, name))\n",
        "    with counter.request() as req:\n",
        "        patience = random.uniform(MIN_PATIENCE, MAX_PATIENCE)\n",
        "        results = yield req | env.timeout(patience)\n",
        "        wait = env.now - arrive\n",
        "        if req in results:\n",
        "            print('%.1f min %s: Waited %.2f' % (env.now, name, wait))\n",
        "            tib = random.expovariate(1.0 / time_in_survey)\n",
        "            yield env.timeout(tib)\n",
        "            print('%.1f min %s: Charged after waiting %.2f min' % (env.now, name,wait))\n",
        "        else:\n",
        "            print('%.1f min %s: Charged after waiting %.2f min' % (env.now, name, wait))\n",
        "print('Car Charging Station')\n",
        "random.seed(RANDOM_SEED)\n",
        "env = simpy.Environment()\n",
        "counter = simpy.Resource(env, capacity=4)\n",
        "env.process(source(env, NEW_Cars, INTERVAL_Cars, counter))\n",
        "env.run()"
      ],
      "execution_count": 0,
      "outputs": [
        {
          "output_type": "stream",
          "text": [
            "Car Charging Station\n",
            "0.0 min Car 00: Car is ready to charge\n",
            "0.0 min Car 00: Waited 0.00\n",
            "7.1 min Car 01: Car is ready to charge\n",
            "7.1 min Car 01: Waited 0.00\n",
            "14.1 min Car 02: Car is ready to charge\n",
            "14.1 min Car 02: Waited 0.00\n",
            "17.5 min Car 00: Charged after waiting 0.00 min\n",
            "19.2 min Car 01: Charged after waiting 0.00 min\n",
            "21.2 min Car 03: Car is ready to charge\n",
            "21.2 min Car 03: Waited 0.00\n",
            "21.7 min Car 04: Car is ready to charge\n",
            "21.7 min Car 04: Waited 0.00\n",
            "22.1 min Car 05: Car is ready to charge\n",
            "22.1 min Car 05: Waited 0.00\n",
            "23.9 min Car 06: Car is ready to charge\n",
            "24.3 min Car 02: Charged after waiting 0.00 min\n",
            "24.3 min Car 06: Waited 0.48\n",
            "26.6 min Car 05: Charged after waiting 0.00 min\n",
            "31.0 min Car 06: Charged after waiting 0.48 min\n",
            "31.0 min Car 07: Car is ready to charge\n",
            "31.0 min Car 07: Waited 0.00\n",
            "34.0 min Car 08: Car is ready to charge\n",
            "34.0 min Car 08: Waited 0.00\n",
            "34.3 min Car 09: Car is ready to charge\n",
            "34.4 min Car 08: Charged after waiting 0.00 min\n",
            "34.4 min Car 09: Waited 0.17\n",
            "39.2 min Car 07: Charged after waiting 0.00 min\n",
            "48.6 min Car 09: Charged after waiting 0.17 min\n",
            "57.7 min Car 04: Charged after waiting 0.00 min\n",
            "82.3 min Car 03: Charged after waiting 0.00 min\n"
          ],
          "name": "stdout"
        }
      ]
    },
    {
      "cell_type": "markdown",
      "metadata": {
        "id": "x7H-sQGolbzW",
        "colab_type": "text"
      },
      "source": [
        "# 6.  WAP for Process Interaction in any simulation scenario.\n",
        "Ans. There are three Process intraction:\n",
        "*   Sleep until woken up (passivate/reactivate)\n",
        "\n",
        "*   Waiting for another process to terminate\n",
        "\n",
        "*  Interrupting another process\n",
        "\n"
      ]
    },
    {
      "cell_type": "markdown",
      "metadata": {
        "id": "4yO3hSoiq1fP",
        "colab_type": "text"
      },
      "source": [
        "**Sleep until woken up**"
      ]
    },
    {
      "cell_type": "code",
      "metadata": {
        "id": "E_a88Vs7lcE5",
        "colab_type": "code",
        "outputId": "659d09a6-a4eb-411e-c337-bf95b882b7cc",
        "colab": {
          "base_uri": "https://localhost:8080/",
          "height": 104
        }
      },
      "source": [
        "from random import seed, randint\n",
        "seed(23)\n",
        "import simpy\n",
        "class EV:\n",
        "    def __init__(self, env):\n",
        "        self.env = env\n",
        "        self.drive_proc = env.process(self.drive(env))\n",
        "        self.bat_ctrl_proc = env.process(self.bat_ctrl(env))\n",
        "        self.bat_ctrl_reactivate = env.event()\n",
        "    def drive(self, env):\n",
        "        while True:\n",
        "            # Drive for 20-40 min\n",
        "            yield env.timeout(randint(20, 40))\n",
        "            # Park for 1–6 hours\n",
        "            print('Start parking at', env.now)\n",
        "            self.bat_ctrl_reactivate.succeed()  # \"reactivate\"\n",
        "            self.bat_ctrl_reactivate = env.event()\n",
        "            yield env.timeout(randint(60, 360))\n",
        "            print('Stop parking at', env.now)\n",
        "    def bat_ctrl(self, env):\n",
        "        while True:\n",
        "            print('Bat. ctrl. passivating at', env.now)\n",
        "            yield self.bat_ctrl_reactivate  # \"passivate\"\n",
        "            print('Bat. ctrl. reactivated at', env.now)\n",
        "            # Intelligent charging behavior here …\n",
        "            yield env.timeout(randint(30, 90))\n",
        "env = simpy.Environment()\n",
        "ev = EV(env)\n",
        "env.run(until=150)"
      ],
      "execution_count": 0,
      "outputs": [
        {
          "output_type": "stream",
          "text": [
            "Bat. ctrl. passivating at 0\n",
            "Start parking at 29\n",
            "Bat. ctrl. reactivated at 29\n",
            "Bat. ctrl. passivating at 60\n",
            "Stop parking at 131\n"
          ],
          "name": "stdout"
        }
      ]
    },
    {
      "cell_type": "markdown",
      "metadata": {
        "id": "eJaNUYuEuEVN",
        "colab_type": "text"
      },
      "source": [
        "**Waiting for another process to terminate**"
      ]
    },
    {
      "cell_type": "code",
      "metadata": {
        "id": "zlwDlBWtuH7Q",
        "colab_type": "code",
        "outputId": "a0287a3a-24a1-4bc6-8a3d-cceb2ddcf488",
        "colab": {
          "base_uri": "https://localhost:8080/",
          "height": 86
        }
      },
      "source": [
        "import simpy\n",
        "class EV:\n",
        "    def __init__(self, env):\n",
        "        self.env = env\n",
        "        self.drive_proc = env.process(self.drive(env))\n",
        "    def drive(self, env):\n",
        "        while True:\n",
        "            # Drive for 20-40 min\n",
        "            yield env.timeout(randint(20, 40))\n",
        "            # Park for 1–6 hours\n",
        "            print('Start parking at', env.now)\n",
        "            charging = env.process(self.bat_ctrl(env))\n",
        "            parking = env.timeout(randint(60, 360))\n",
        "            yield charging & parking\n",
        "            print('Stop parking at', env.now)\n",
        "    def bat_ctrl(self, env):\n",
        "        print('Bat. ctrl. started at', env.now)\n",
        "        # Intelligent charging behavior here …\n",
        "        yield env.timeout(randint(30, 90))\n",
        "        print('Bat. ctrl. done at', env.now)\n",
        "\n",
        "env = simpy.Environment()\n",
        "ev = EV(env)\n",
        "env.run(until=310)"
      ],
      "execution_count": 0,
      "outputs": [
        {
          "output_type": "stream",
          "text": [
            "Start parking at 29\n",
            "Bat. ctrl. started at 29\n",
            "Bat. ctrl. done at 83\n",
            "Stop parking at 305\n"
          ],
          "name": "stdout"
        }
      ]
    },
    {
      "cell_type": "markdown",
      "metadata": {
        "id": "6F1XXwSOub6-",
        "colab_type": "text"
      },
      "source": [
        "**Interrupting another process**"
      ]
    },
    {
      "cell_type": "code",
      "metadata": {
        "id": "V0k_41afuqB8",
        "colab_type": "code",
        "outputId": "0ab9dfe1-d63d-42a2-9f63-aca5b3b54686",
        "colab": {
          "base_uri": "https://localhost:8080/",
          "height": 86
        }
      },
      "source": [
        "class EV:\n",
        "     def __init__(self, env):\n",
        "         self.env = env\n",
        "         self.drive_proc = env.process(self.drive(env))\n",
        "\n",
        "     def drive(self, env):\n",
        "         while True:\n",
        "             # Drive for 20-40 min\n",
        "             yield env.timeout(randint(20, 40))\n",
        "\n",
        "             # Park for 1 hour\n",
        "             print('Start parking at', env.now)\n",
        "             charging = env.process(self.bat_ctrl(env))\n",
        "             parking = env.timeout(60)\n",
        "             yield charging | parking\n",
        "             if not charging.triggered:\n",
        "                 # Interrupt charging if not already done.\n",
        "                 charging.interrupt('Need to go!')\n",
        "             print('Stop parking at', env.now)\n",
        "\n",
        "     def bat_ctrl(self, env):\n",
        "         print('Bat. ctrl. started at', env.now)\n",
        "         try:\n",
        "             yield env.timeout(randint(60, 90))\n",
        "             print('Bat. ctrl. done at', env.now)\n",
        "         except simpy.Interrupt as i:\n",
        "             # Onoes! Got interrupted before the charging was done.\n",
        "             print('Bat. ctrl. interrupted at', env.now, 'msg:',\n",
        "                   i.cause)\n",
        "\n",
        "env = simpy.Environment()\n",
        "ev = EV(env)\n",
        "env.run(until=100)"
      ],
      "execution_count": 0,
      "outputs": [
        {
          "output_type": "stream",
          "text": [
            "Start parking at 31\n",
            "Bat. ctrl. started at 31\n",
            "Stop parking at 91\n",
            "Bat. ctrl. interrupted at 91 msg: Need to go!\n"
          ],
          "name": "stdout"
        }
      ]
    },
    {
      "cell_type": "markdown",
      "metadata": {
        "id": "-b1z7YZnva4h",
        "colab_type": "text"
      },
      "source": [
        "# **7.\tWAP to Interrupting another process in case of car charging simulation.**"
      ]
    },
    {
      "cell_type": "code",
      "metadata": {
        "id": "IqjCTHd_vmKh",
        "colab_type": "code",
        "outputId": "c21ffd4b-b7fe-4b10-c940-b3b8f85d61dd",
        "colab": {
          "base_uri": "https://localhost:8080/",
          "height": 86
        }
      },
      "source": [
        "class EV:\n",
        "     def __init__(self, env):\n",
        "         self.env = env\n",
        "         self.drive_proc = env.process(self.drive(env))\n",
        "\n",
        "     def drive(self, env):\n",
        "         while True:\n",
        "             # Drive for 20-40 min\n",
        "             yield env.timeout(randint(20, 40))\n",
        "\n",
        "             # Park for 1 hour\n",
        "             print('Start parking at', env.now)\n",
        "             charging = env.process(self.bat_ctrl(env))\n",
        "             parking = env.timeout(60)\n",
        "             yield charging | parking\n",
        "             if not charging.triggered:\n",
        "                 # Interrupt charging if not already done.\n",
        "                 charging.interrupt('Need to go!')\n",
        "             print('Stop parking at', env.now)\n",
        "\n",
        "     def bat_ctrl(self, env):\n",
        "         print('Bat. ctrl. started at', env.now)\n",
        "         try:\n",
        "             yield env.timeout(randint(60, 90))\n",
        "             print('Bat. ctrl. done at', env.now)\n",
        "         except simpy.Interrupt as i:\n",
        "             # Onoes! Got interrupted before the charging was done.\n",
        "             print('Bat. ctrl. interrupted at', env.now, 'msg:',\n",
        "                   i.cause)\n",
        "\n",
        "env = simpy.Environment()\n",
        "ev = EV(env)\n",
        "env.run(until=100)\n",
        "#It is a methot of Process Interaction"
      ],
      "execution_count": 0,
      "outputs": [
        {
          "output_type": "stream",
          "text": [
            "Start parking at 28\n",
            "Bat. ctrl. started at 28\n",
            "Stop parking at 88\n",
            "Bat. ctrl. interrupted at 88 msg: Need to go!\n"
          ],
          "name": "stdout"
        }
      ]
    },
    {
      "cell_type": "markdown",
      "metadata": {
        "id": "7dn1h8rBweB3",
        "colab_type": "text"
      },
      "source": [
        "# **8.\tWhat is the different between dependent and independent processes?**"
      ]
    },
    {
      "cell_type": "code",
      "metadata": {
        "id": "88la0C8awda0",
        "colab_type": "code",
        "colab": {}
      },
      "source": [
        "An independent rescources is the rescource that is changed or controlled in a scientific experiment to test the effects on the dependent rescource.\n",
        "A dependent Rescource is the Rescource being tested and measured in a scientific experiment"
      ],
      "execution_count": 0,
      "outputs": []
    }
  ]
}