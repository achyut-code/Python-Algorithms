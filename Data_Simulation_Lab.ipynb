{
  "nbformat": 4,
  "nbformat_minor": 0,
  "metadata": {
    "colab": {
      "name": "Data Simulation Lab.ipynb",
      "provenance": [],
      "collapsed_sections": [],
      "authorship_tag": "ABX9TyNUQiG4+5hZaCmfWZ5r4xZ8",
      "include_colab_link": true
    },
    "kernelspec": {
      "name": "python3",
      "display_name": "Python 3"
    },
    "accelerator": "TPU"
  },
  "cells": [
    {
      "cell_type": "markdown",
      "metadata": {
        "id": "view-in-github",
        "colab_type": "text"
      },
      "source": [
        "<a href=\"https://colab.research.google.com/github/arpit0891/Python-Algorithms/blob/master/Data_Simulation_Lab.ipynb\" target=\"_parent\"><img src=\"https://colab.research.google.com/assets/colab-badge.svg\" alt=\"Open In Colab\"/></a>"
      ]
    },
    {
      "cell_type": "code",
      "metadata": {
        "id": "3O84UbjpvCg6",
        "colab_type": "code",
        "outputId": "57118dac-72c2-45de-d045-2bc750376966",
        "colab": {
          "base_uri": "https://localhost:8080/",
          "height": 86
        }
      },
      "source": [
        "! pip install simpy"
      ],
      "execution_count": 0,
      "outputs": [
        {
          "output_type": "stream",
          "text": [
            "Collecting simpy\n",
            "  Downloading https://files.pythonhosted.org/packages/3a/cf/2032ed55072a1509c829237279d4da51190524c7724e763a93e8faae8f80/simpy-3.0.12-py2.py3-none-any.whl\n",
            "Installing collected packages: simpy\n",
            "Successfully installed simpy-3.0.12\n"
          ],
          "name": "stdout"
        }
      ]
    },
    {
      "cell_type": "code",
      "metadata": {
        "id": "tJ8R3DljGfuj",
        "colab_type": "code",
        "colab": {}
      },
      "source": [
        ""
      ],
      "execution_count": 0,
      "outputs": []
    },
    {
      "cell_type": "code",
      "metadata": {
        "id": "Sa5-Cb7v_9YM",
        "colab_type": "code",
        "colab": {}
      },
      "source": [
        "import random"
      ],
      "execution_count": 0,
      "outputs": []
    },
    {
      "cell_type": "code",
      "metadata": {
        "id": "PRF5PAOS3x2k",
        "colab_type": "code",
        "colab": {}
      },
      "source": [
        "import simpy"
      ],
      "execution_count": 0,
      "outputs": []
    },
    {
      "cell_type": "code",
      "metadata": {
        "id": "pDpCyj9h89qa",
        "colab_type": "code",
        "outputId": "36da1060-cfa6-4e0f-82d6-33171440a571",
        "colab": {
          "base_uri": "https://localhost:8080/",
          "height": 104
        }
      },
      "source": [
        "class Car(object): \n",
        "  def __init__(self, env): \n",
        "    self.env = env\n",
        "    self.action = env.process(self.run()) \n",
        "  def run(self):\n",
        "    while True: \n",
        "     print('Start parking and charging at %d' % self.env.now) \n",
        "     charge_duration = 5 \n",
        "     yield self.env.process(self.charge(charge_duration)) \n",
        "     print('Start driving at %d' % self.env.now)\n",
        "     trip_duration = 2 \n",
        "     yield self.env.timeout(trip_duration)\n",
        "  def charge(self, duration):\n",
        "     yield self.env.timeout(duration)\n",
        "env = simpy.Environment()\n",
        "car = Car(env)\n",
        "env.run(until=15)"
      ],
      "execution_count": 0,
      "outputs": [
        {
          "output_type": "stream",
          "text": [
            "Start parking and charging at 0\n",
            "Start driving at 5\n",
            "Start parking and charging at 7\n",
            "Start driving at 12\n",
            "Start parking and charging at 14\n"
          ],
          "name": "stdout"
        }
      ]
    },
    {
      "cell_type": "code",
      "metadata": {
        "id": "oLxM_q93v8sb",
        "colab_type": "code",
        "outputId": "28a5e280-b1e4-4a88-9383-cdb18cc09ca7",
        "colab": {
          "base_uri": "https://localhost:8080/",
          "height": 225
        }
      },
      "source": [
        "def car(env, name, bcs, driving_time, charge_duration):\n",
        "  yield env.timeout(driving_time)\n",
        "  print('%s arriving at %d' % (name, env.now))\n",
        "  with bcs.request() as req:\n",
        "    yield req\n",
        "    print('%s starting to charge at %s' % (name, env.now))\n",
        "    yield env.timeout(charge_duration)\n",
        "    print('%s leaving the bcs at %s' % (name, env.now))\n",
        "env = simpy.Environment()\n",
        "bcs = simpy.Resource(env, capacity=2)\n",
        "for i in range (4):\n",
        "  env.process(car(env, 'Car %d' % i, bcs, i*2, 5)) \n",
        "env.run()"
      ],
      "execution_count": 0,
      "outputs": [
        {
          "output_type": "stream",
          "text": [
            "Car 0 arriving at 0\n",
            "Car 0 starting to charge at 0\n",
            "Car 1 arriving at 2\n",
            "Car 1 starting to charge at 2\n",
            "Car 2 arriving at 4\n",
            "Car 0 leaving the bcs at 5\n",
            "Car 2 starting to charge at 5\n",
            "Car 3 arriving at 6\n",
            "Car 1 leaving the bcs at 7\n",
            "Car 3 starting to charge at 7\n",
            "Car 2 leaving the bcs at 10\n",
            "Car 3 leaving the bcs at 12\n"
          ],
          "name": "stdout"
        }
      ]
    },
    {
      "cell_type": "code",
      "metadata": {
        "id": "_8rIrlKT4eD-",
        "colab_type": "code",
        "outputId": "73917e7a-cd22-46d2-e1b1-685b526ad582",
        "colab": {
          "base_uri": "https://localhost:8080/",
          "height": 34
        }
      },
      "source": [
        "def example(env):\n",
        "  event = simpy.events.Timeout(env, delay=1, value=42)\n",
        "  value = yield event\n",
        "  print('now=%d, value=%d' % (env.now, value))\n",
        "env= simpy.Environment()\n",
        "example_gen = example(env)\n",
        "p = simpy.events.Process(env, example_gen)\n",
        "env.run()"
      ],
      "execution_count": 0,
      "outputs": [
        {
          "output_type": "stream",
          "text": [
            "now=1, value=42\n"
          ],
          "name": "stdout"
        }
      ]
    },
    {
      "cell_type": "code",
      "metadata": {
        "id": "zMVR6Ki-5kg1",
        "colab_type": "code",
        "outputId": "effea54f-044b-4881-aaf3-b4f67d96fe47",
        "colab": {
          "base_uri": "https://localhost:8080/",
          "height": 34
        }
      },
      "source": [
        "def subfunc(env):\n",
        "  print(evc.active_process)\n",
        "def my_proc(env):\n",
        "  while True:\n",
        "    print(env.active_process)\n",
        "    subfunc(env)\n",
        "    yield env.timeout(3)\n",
        "env = simpy.Environment()\n",
        "p1 = env.process(my_proc(env))\n",
        "env.active_process\n",
        "env.step() \n",
        "env.active_process"
      ],
      "execution_count": 0,
      "outputs": [
        {
          "output_type": "stream",
          "text": [
            "<Process(my_proc) object at 0x7f2a4b9ac0b8>\n"
          ],
          "name": "stdout"
        }
      ]
    },
    {
      "cell_type": "code",
      "metadata": {
        "id": "gFVJzFCPCo_z",
        "colab_type": "code",
        "outputId": "a2622db6-352b-45e2-8ff0-2f948d85529f",
        "colab": {
          "base_uri": "https://localhost:8080/",
          "height": 104
        }
      },
      "source": [
        "from random import seed, randint\n",
        "seed(23)\n",
        "class EV:\n",
        "  def __init__(self, env):\n",
        "    self.env = env \n",
        "    self.drive_proc = env.process(self.drive(env)) \n",
        "    self.bat_ctrl_proc = env.process(self.bat_ctrl(env)) \n",
        "    self.bat_ctrl_reactivate = env.event()\n",
        "  def drive(self, env):\n",
        "     while True:\n",
        "      yield env.timeout(randint(20, 40)) \n",
        "      print('Start parking at', env.now) \n",
        "      self.bat_ctrl_reactivate.succeed()\n",
        "      self.bat_ctrl_reactivate = env.event()\n",
        "      yield env.timeout(randint(60, 360))\n",
        "      print('Stop parking at', env.now)\n",
        "  def bat_ctrl(self, env):\n",
        "    while True:\n",
        "      print('Bat. ctrl. passivating at', env.now)\n",
        "      yield self.bat_ctrl_reactivate\n",
        "      print('Bat. ctrl. reactivated at', env.now)\n",
        "      yield env.timeout(randint(30, 90))\n",
        "env = simpy.Environment()\n",
        "ev = EV(env)\n",
        "env.run(until=150)"
      ],
      "execution_count": 0,
      "outputs": [
        {
          "output_type": "stream",
          "text": [
            "Bat. ctrl. passivating at 0\n",
            "Start parking at 29\n",
            "Bat. ctrl. reactivated at 29\n",
            "Bat. ctrl. passivating at 60\n",
            "Stop parking at 131\n"
          ],
          "name": "stdout"
        }
      ]
    },
    {
      "cell_type": "code",
      "metadata": {
        "id": "0IQY3cU5BZ9s",
        "colab_type": "code",
        "outputId": "3174223a-eb69-4fa6-b112-de1797d69147",
        "colab": {
          "base_uri": "https://localhost:8080/",
          "height": 242
        }
      },
      "source": [
        "def signal(env):\n",
        "  while True:\n",
        "    print(\"GREEN LIGHT \" ,env.now)\n",
        "    duration1=30\n",
        "    yield env.timeout(duration1)\n",
        "\n",
        "    print(\"YELLOW LIGHT \", env.now)\n",
        "    duration2=5\n",
        "    yield env.timeout(duration2)\n",
        "\n",
        "    print(\"RED LIGHT \" ,env.now)\n",
        "    duration3=85\n",
        "    yield env.timeout(duration3)\n",
        "env=simpy.Environment()\n",
        "env.process(signal(env))\n",
        "env.run(until=500)"
      ],
      "execution_count": 0,
      "outputs": [
        {
          "output_type": "stream",
          "text": [
            "GREEN LIGHT  0\n",
            "YELLOW LIGHT  30\n",
            "RED LIGHT  35\n",
            "GREEN LIGHT  120\n",
            "YELLOW LIGHT  150\n",
            "RED LIGHT  155\n",
            "GREEN LIGHT  240\n",
            "YELLOW LIGHT  270\n",
            "RED LIGHT  275\n",
            "GREEN LIGHT  360\n",
            "YELLOW LIGHT  390\n",
            "RED LIGHT  395\n",
            "GREEN LIGHT  480\n"
          ],
          "name": "stdout"
        }
      ]
    },
    {
      "cell_type": "code",
      "metadata": {
        "id": "ybmEJtxdD3nh",
        "colab_type": "code",
        "outputId": "04624312-b799-40bd-847f-a4b4e5371891",
        "colab": {
          "base_uri": "https://localhost:8080/",
          "height": 242
        }
      },
      "source": [
        "from collections import deque\n",
        "from numpy import random\n",
        "import simpy\n",
        "from simpy.util import start_delayed\n",
        "\n",
        "\n",
        "class Struct(object):\n",
        "   def __init__(self, **kwargs):\n",
        "      self.__dict__.update(kwargs)\n",
        "random.seed([1, 2, 3])\n",
        "#specify the initial data\n",
        "end_time= 200.0\n",
        "arrival_rate= 0.05\n",
        "t_interarrival_mean= 2.0 / arrival_rate\n",
        "t_green= 30.0\n",
        "t_red= 90.0\n",
        "t_depart_left= 1.6; t_depart_mode= 2.0; t_depart_right= 2.4\n",
        "queue= deque()\n",
        "arrival_count= departure_count= 0\n",
        "Q_stats= Struct(count=0, cars_waiting=0)\n",
        "W_stats= Struct(count=0, waiting_time=0.0)\n",
        "def arrival():\n",
        "   global arrival_count, env, light, queue\n",
        "   while True:\n",
        "      arrival_count+= 1\n",
        "      if light == 'red' or len(queue):\n",
        "         queue.append((arrival_count, env.now))\n",
        "         min=env.now/60\n",
        "         print(\"Car #%d arrived and joined the queue at position %d at time \"\"%.1f\"\"sec or \"\"%.1f\"\"mins\"%(arrival_count, len(queue), env.now,min))\n",
        "      else:\n",
        "         min=env.now/60\n",
        "         print(\"Car #%d arrived to a green light with no cars waiting at time \"\"%.1f\"\"sec or \"\"%.1f\"\"mins\"%(arrival_count, env.now,min))\n",
        "         W_stats.count+= 1\n",
        "         #next arival\n",
        "      yield env.timeout( random.exponential(t_interarrival_mean))\n",
        "def departure():\n",
        "     global env, queue\n",
        "     while True:\n",
        "      car_number, t_arrival= queue.popleft()\n",
        "      min=env.now/60\n",
        "      print(\"Car #%d departed at time %.1f\"\"sec or\"\" %.1f\"\"mins\"\", leaving %d cars in the queue.\"%(car_number, env.now,min, len(queue)))\n",
        "      W_stats.count+= 1\n",
        "      W_stats.waiting_time+= env.now - t_arrival\n",
        "      if light == 'red' or len(queue) == 0:\n",
        "         return\n",
        "      delay= random.triangular(left=t_depart_left, mode=t_depart_mode,right=t_depart_right)\n",
        "      yield env.timeout(delay)\n",
        "def light():\n",
        "   global env, light\n",
        "   while True:\n",
        "      light= 'green'\n",
        "      min=env.now/60\n",
        "      print(\"\\nThe light turned green at time %.1f.\"\"sec or \"\"%.1f\"\"mins\"%(env.now,min))\n",
        "      if len(queue):\n",
        "         delay= random.triangular(left=t_depart_left, mode=t_depart_mode,right=t_depart_right)\n",
        "         start_delayed(env, departure(), delay=delay)\n",
        "      yield env.timeout(t_green)\n",
        "      light= 'red'\n",
        "      min=env.now/60\n",
        "      print(\"\\nThe light turned red at time %.1f.\"\"sec or \"\"%.1f\"\"mins\"% (env.now,min))\n",
        "      yield env.timeout(t_red)\n",
        "def monitor():\n",
        "   global env, Q_stats\n",
        "   while True:\n",
        "      Q_stats.count+= 1\n",
        "      Q_stats.cars_waiting+= len(queue)\n",
        "      yield env.timeout(1.0)\n",
        "env= simpy.Environment()\n",
        "env.process(light())\n",
        "t_first_arrival= random.exponential(t_interarrival_mean)\n",
        "start_delayed(env, arrival(), delay=t_first_arrival)\n",
        "env.process(monitor())\n",
        "env.run(until=end_time)\n",
        "print(\"Mean number of cars waiting: %f\"% (Q_stats.cars_waiting / float(Q_stats.count)))\n",
        "print(\"Mean waiting time (seconds): %f\"\"secs or \"\"%f mins\"  %((W_stats.waiting_time / float(W_stats.count),(W_stats.waiting_time / float(W_stats.count)/60))))"
      ],
      "execution_count": 0,
      "outputs": [
        {
          "output_type": "stream",
          "text": [
            "\n",
            "The light turned green at time 0.0.sec or 0.0mins\n",
            "\n",
            "The light turned red at time 30.0.sec or 0.5mins\n",
            "Car #1 arrived and joined the queue at position 1 at time 37.7sec or 0.6mins\n",
            "\n",
            "The light turned green at time 120.0.sec or 2.0mins\n",
            "Car #1 departed at time 122.0sec or 2.0mins, leaving 0 cars in the queue.\n",
            "Car #2 arrived to a green light with no cars waiting at time 124.8sec or 2.1mins\n",
            "\n",
            "The light turned red at time 150.0.sec or 2.5mins\n",
            "Mean number of cars waiting: 0.420000\n",
            "Mean waiting time (seconds): 42.170152secs or 0.702836 mins\n"
          ],
          "name": "stdout"
        }
      ]
    },
    {
      "cell_type": "code",
      "metadata": {
        "id": "Mr-mImfUIxw_",
        "colab_type": "code",
        "outputId": "d8bfe9c0-83e5-457b-e217-7d13b482fe8a",
        "colab": {
          "base_uri": "https://localhost:8080/",
          "height": 780
        }
      },
      "source": [
        "import itertools\n",
        "import random\n",
        "import simpy\n",
        "RANDOM_SEED = 100\n",
        "GAS_STATION_SIZE = 300\n",
        "THRESHOLD = 5      \n",
        "FUEL_TANK_SIZE = 75   \n",
        "FUEL_TANK_LEVEL = [5, 50]\n",
        "REFUELING_SPEED = 3   \n",
        "TANK_TRUCK_TIME = 300 \n",
        "T_INTER = [100, 1000]\n",
        "SIM_TIME = 10000\n",
        "def car(name, env, gas_station, fuel_pump):\n",
        "    fuel_tank_level = random.randint(*FUEL_TANK_LEVEL)\n",
        "    print('%s arriving at gas station at %.1f' % (name, env.now))\n",
        "    with gas_station.request() as req:\n",
        "        start = env.now\n",
        "        yield req\n",
        "        liters_required = FUEL_TANK_SIZE - fuel_tank_level\n",
        "        yield fuel_pump.get(liters_required)\n",
        "        yield env.timeout(liters_required / REFUELING_SPEED)\n",
        "        print('%s finished refueling in %.1f seconds.' % (name,env.now - start))\n",
        "def gas_station_control(env, fuel_pump):\n",
        "    while True:\n",
        "        if fuel_pump.level / fuel_pump.capacity * 100 < THRESHOLD:\n",
        "            print('Calling tank truck at %d' % env.now)\n",
        "            yield env.process(tank_truck(env, fuel_pump))\n",
        "        yield env.timeout(15)\n",
        "def tank_truck(env, fuel_pump):\n",
        "    yield env.timeout(TANK_TRUCK_TIME)\n",
        "    print('Tank truck arriving at time %d' % env.now)\n",
        "    ammount = fuel_pump.capacity - fuel_pump.level\n",
        "    print('Tank truck refuelling %.1f liters.' % ammount)\n",
        "    yield fuel_pump.put(ammount)\n",
        "def car_generator(env, gas_station, fuel_pump):\n",
        "    for i in itertools.count():\n",
        "        yield env.timeout(random.randint(*T_INTER))\n",
        "        env.process(car('Car %d' % i, env, gas_station, fuel_pump))\n",
        "print('Gas Station refuelling')\n",
        "random.seed(RANDOM_SEED)\n",
        "env = simpy.Environment()\n",
        "gas_station = simpy.Resource(env, 2)\n",
        "fuel_pump = simpy.Container(env, GAS_STATION_SIZE, init=GAS_STATION_SIZE)\n",
        "env.process(gas_station_control(env, fuel_pump))\n",
        "env.process(car_generator(env, gas_station, fuel_pump))\n",
        "env.run(until=SIM_TIME)"
      ],
      "execution_count": 0,
      "outputs": [
        {
          "output_type": "stream",
          "text": [
            "Gas Station refuelling\n",
            "Car 0 arriving at gas station at 249.0\n",
            "Car 0 finished refueling in 13.7 seconds.\n",
            "Car 1 arriving at gas station at 819.0\n",
            "Car 1 finished refueling in 19.7 seconds.\n",
            "Car 2 arriving at gas station at 1708.0\n",
            "Car 2 finished refueling in 15.0 seconds.\n",
            "Car 3 arriving at gas station at 2530.0\n",
            "Car 3 finished refueling in 16.0 seconds.\n",
            "Car 4 arriving at gas station at 3379.0\n",
            "Car 4 finished refueling in 12.7 seconds.\n",
            "Car 5 arriving at gas station at 3922.0\n",
            "Calling tank truck at 3930\n",
            "Car 5 finished refueling in 21.0 seconds.\n",
            "Tank truck arriving at time 4230\n",
            "Tank truck refuelling 294.0 liters.\n",
            "Car 6 arriving at gas station at 4841.0\n",
            "Car 6 finished refueling in 21.0 seconds.\n",
            "Car 7 arriving at gas station at 5486.0\n",
            "Car 7 finished refueling in 13.7 seconds.\n",
            "Car 8 arriving at gas station at 5668.0\n",
            "Car 8 finished refueling in 22.3 seconds.\n",
            "Car 9 arriving at gas station at 6037.0\n",
            "Car 9 finished refueling in 9.7 seconds.\n",
            "Car 10 arriving at gas station at 6811.0\n",
            "Car 10 finished refueling in 16.3 seconds.\n",
            "Car 11 arriving at gas station at 7120.0\n",
            "Calling tank truck at 7125\n",
            "Car 11 finished refueling in 17.0 seconds.\n",
            "Tank truck arriving at time 7425\n",
            "Tank truck refuelling 300.0 liters.\n",
            "Car 12 arriving at gas station at 7455.0\n",
            "Car 12 finished refueling in 19.0 seconds.\n",
            "Car 13 arriving at gas station at 8414.0\n",
            "Car 13 finished refueling in 20.3 seconds.\n",
            "Car 14 arriving at gas station at 8696.0\n",
            "Car 14 finished refueling in 16.0 seconds.\n",
            "Car 15 arriving at gas station at 8989.0\n",
            "Car 15 finished refueling in 10.0 seconds.\n",
            "Car 16 arriving at gas station at 9467.0\n",
            "Car 16 finished refueling in 19.0 seconds.\n",
            "Car 17 arriving at gas station at 9986.0\n",
            "Calling tank truck at 9990\n",
            "Car 17 finished refueling in 13.7 seconds.\n"
          ],
          "name": "stdout"
        }
      ]
    },
    {
      "cell_type": "code",
      "metadata": {
        "id": "ZThbZTZ8McjN",
        "colab_type": "code",
        "outputId": "5d1f12aa-65b3-4b8a-c281-fef1dff92265",
        "colab": {
          "base_uri": "https://localhost:8080/",
          "height": 381
        }
      },
      "source": [
        "'''Q.1 \n",
        "Design a simulation regarding registration desk in survey where one desk can handle only 2\n",
        "clients, use source resource criteria in this problem.'''\n",
        "import random\n",
        "import simpy\n",
        "RANDOM_SEED = 200\n",
        "NEW_CUSTOMERS = 5  # Total number of customers\n",
        "INTERVAL_CUSTOMERS = 3.0  # Generate new customers roughly every x seconds\n",
        "MIN_PATIENCE = 1  # Min. customer patience\n",
        "MAX_PATIENCE = 30  # Max. customer patience\n",
        "def source(env, number, interval, counter):\n",
        "    for i in range(number):\n",
        "        c = customer(env, 'Customer%02d' % i, counter, time_in_survey=12.0)\n",
        "        env.process(c)\n",
        "        t = random.expovariate(1.0 / interval)\n",
        "        yield env.timeout(t)\n",
        "def customer(env, name, counter, time_in_survey):\n",
        "    arrive = env.now\n",
        "    print('%.2f %s: Customer ready to take survey' % (arrive, name))\n",
        "    with counter.request() as req:\n",
        "        patience = random.uniform(MIN_PATIENCE, MAX_PATIENCE)\n",
        "        results = yield req | env.timeout(patience)\n",
        "        wait = env.now - arrive\n",
        "        if req in results:\n",
        "            print('%.2f %s: Waited %.2f' % (env.now, name, wait))\n",
        "            tib = random.expovariate(1.0 / time_in_survey)\n",
        "            yield env.timeout(tib)\n",
        "            print('%.2f %s: Finished' % (env.now, name))\n",
        "        else:\n",
        "            print('%.2f %s: Surveyed after %.2f' % (env.now, name, wait))\n",
        "print('Regestration desk')\n",
        "random.seed(RANDOM_SEED)\n",
        "env = simpy.Environment()\n",
        "counter = simpy.Resource(env, capacity=2)\n",
        "env.process(source(env, NEW_CUSTOMERS, INTERVAL_CUSTOMERS, counter))\n",
        "env.run()"
      ],
      "execution_count": 0,
      "outputs": [
        {
          "output_type": "error",
          "ename": "ModuleNotFoundError",
          "evalue": "ignored",
          "traceback": [
            "\u001b[0;31m---------------------------------------------------------------------------\u001b[0m",
            "\u001b[0;31mModuleNotFoundError\u001b[0m                       Traceback (most recent call last)",
            "\u001b[0;32m<ipython-input-1-b8e05c973aef>\u001b[0m in \u001b[0;36m<module>\u001b[0;34m()\u001b[0m\n\u001b[1;32m      3\u001b[0m clients, use source resource criteria in this problem.'''\n\u001b[1;32m      4\u001b[0m \u001b[0;32mimport\u001b[0m \u001b[0mrandom\u001b[0m\u001b[0;34m\u001b[0m\u001b[0;34m\u001b[0m\u001b[0m\n\u001b[0;32m----> 5\u001b[0;31m \u001b[0;32mimport\u001b[0m \u001b[0msimpy\u001b[0m\u001b[0;34m\u001b[0m\u001b[0;34m\u001b[0m\u001b[0m\n\u001b[0m\u001b[1;32m      6\u001b[0m \u001b[0mRANDOM_SEED\u001b[0m \u001b[0;34m=\u001b[0m \u001b[0;36m200\u001b[0m\u001b[0;34m\u001b[0m\u001b[0;34m\u001b[0m\u001b[0m\n\u001b[1;32m      7\u001b[0m \u001b[0mNEW_CUSTOMERS\u001b[0m \u001b[0;34m=\u001b[0m \u001b[0;36m5\u001b[0m  \u001b[0;31m# Total number of customers\u001b[0m\u001b[0;34m\u001b[0m\u001b[0;34m\u001b[0m\u001b[0m\n",
            "\u001b[0;31mModuleNotFoundError\u001b[0m: No module named 'simpy'",
            "",
            "\u001b[0;31m---------------------------------------------------------------------------\u001b[0;32m\nNOTE: If your import is failing due to a missing package, you can\nmanually install dependencies using either !pip or !apt.\n\nTo view examples of installing some common dependencies, click the\n\"Open Examples\" button below.\n\u001b[0;31m---------------------------------------------------------------------------\u001b[0m\n"
          ]
        }
      ]
    },
    {
      "cell_type": "code",
      "metadata": {
        "id": "Z1V41wOISKo1",
        "colab_type": "code",
        "outputId": "ef8154ab-8dbe-4472-bb42-18eb0b285c36",
        "colab": {
          "base_uri": "https://localhost:8080/",
          "height": 208
        }
      },
      "source": [
        "'''Q2. Design a simulation regarding traffic light where process interruption is used for some special\n",
        "case.'''\n",
        "class TrafficLight(object):\n",
        "  def __init__(self,env):\n",
        "    self.env=env\n",
        "    self.action=env.process(self.run(env))\n",
        "  def run(self,env):\n",
        "    while True:\n",
        "      print(\"Red light in \",  env.now)\n",
        "      red_light_duration=90\n",
        "      try:\n",
        "        yield self.env.timeout(red_light_duration)\n",
        "      except(simpy.Interrupt):\n",
        "        print(\"Emergency vehicle arriving\")\n",
        "      print(\"Yellow light in \",  env.now)\n",
        "      yellow_light_duration=10\n",
        "      try:\n",
        "        yield self.env.timeout(yellow_light_duration)\n",
        "      except(simpy.Interrupt):\n",
        "        print(\"Emergency vehicle arriving\")\n",
        "      print(\"Green light in \",  env.now)\n",
        "      green_light_duration=20\n",
        "      try:\n",
        "        yield self.env.timeout(green_light_duration)\n",
        "      except(simpy.Interrupt):\n",
        "         print(\"Emergency vehicle arriving\")\n",
        "def emergency(env,tl,t):\n",
        "  yield env.timeout(t)\n",
        "  tl.action.interrupt()\n",
        "env=simpy.Environment()\n",
        "tl=TrafficLight(env)\n",
        "env.process(emergency(env,tl,180))\n",
        "env.run(400)"
      ],
      "execution_count": 0,
      "outputs": [
        {
          "output_type": "stream",
          "text": [
            "Red light in  0\n",
            "Yellow light in  90\n",
            "Green light in  100\n",
            "Red light in  120\n",
            "Emergency vehicle arriving\n",
            "Yellow light in  180\n",
            "Green light in  190\n",
            "Red light in  210\n",
            "Yellow light in  300\n",
            "Green light in  310\n",
            "Red light in  330\n"
          ],
          "name": "stdout"
        }
      ]
    }
  ]
}